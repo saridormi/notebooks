{
  "nbformat": 4,
  "nbformat_minor": 0,
  "metadata": {
    "colab": {
      "name": "BERT_for_Source_Code.ipynb",
      "provenance": [],
      "collapsed_sections": [],
      "toc_visible": true,
      "include_colab_link": true
    },
    "kernelspec": {
      "name": "python3",
      "display_name": "Python 3"
    },
    "accelerator": "GPU",
    "widgets": {
      "application/vnd.jupyter.widget-state+json": {
        "044abdcddebf4a0ca7040589b5d91a2f": {
          "model_module": "@jupyter-widgets/controls",
          "model_name": "HBoxModel",
          "state": {
            "_view_name": "HBoxView",
            "_dom_classes": [],
            "_model_name": "HBoxModel",
            "_view_module": "@jupyter-widgets/controls",
            "_model_module_version": "1.5.0",
            "_view_count": null,
            "_view_module_version": "1.5.0",
            "box_style": "",
            "layout": "IPY_MODEL_85d6f98dd31b46e98c34c8474f4b5da5",
            "_model_module": "@jupyter-widgets/controls",
            "children": [
              "IPY_MODEL_9b4eb499c9504ee698725ec1c33c21d1",
              "IPY_MODEL_22f4a22ee48e4e969549d4a1b462ec16"
            ]
          }
        },
        "85d6f98dd31b46e98c34c8474f4b5da5": {
          "model_module": "@jupyter-widgets/base",
          "model_name": "LayoutModel",
          "state": {
            "_view_name": "LayoutView",
            "grid_template_rows": null,
            "right": null,
            "justify_content": null,
            "_view_module": "@jupyter-widgets/base",
            "overflow": null,
            "_model_module_version": "1.2.0",
            "_view_count": null,
            "flex_flow": null,
            "width": null,
            "min_width": null,
            "border": null,
            "align_items": null,
            "bottom": null,
            "_model_module": "@jupyter-widgets/base",
            "top": null,
            "grid_column": null,
            "overflow_y": null,
            "overflow_x": null,
            "grid_auto_flow": null,
            "grid_area": null,
            "grid_template_columns": null,
            "flex": null,
            "_model_name": "LayoutModel",
            "justify_items": null,
            "grid_row": null,
            "max_height": null,
            "align_content": null,
            "visibility": null,
            "align_self": null,
            "height": null,
            "min_height": null,
            "padding": null,
            "grid_auto_rows": null,
            "grid_gap": null,
            "max_width": null,
            "order": null,
            "_view_module_version": "1.2.0",
            "grid_template_areas": null,
            "object_position": null,
            "object_fit": null,
            "grid_auto_columns": null,
            "margin": null,
            "display": null,
            "left": null
          }
        },
        "9b4eb499c9504ee698725ec1c33c21d1": {
          "model_module": "@jupyter-widgets/controls",
          "model_name": "FloatProgressModel",
          "state": {
            "_view_name": "ProgressView",
            "style": "IPY_MODEL_c404f0a2f4714f398426a96f8d4650c2",
            "_dom_classes": [],
            "description": "Downloading: 100%",
            "_model_name": "FloatProgressModel",
            "bar_style": "success",
            "max": 898822,
            "_view_module": "@jupyter-widgets/controls",
            "_model_module_version": "1.5.0",
            "value": 898822,
            "_view_count": null,
            "_view_module_version": "1.5.0",
            "orientation": "horizontal",
            "min": 0,
            "description_tooltip": null,
            "_model_module": "@jupyter-widgets/controls",
            "layout": "IPY_MODEL_b159746bd4a343128e2001c2e08ccd4a"
          }
        },
        "22f4a22ee48e4e969549d4a1b462ec16": {
          "model_module": "@jupyter-widgets/controls",
          "model_name": "HTMLModel",
          "state": {
            "_view_name": "HTMLView",
            "style": "IPY_MODEL_e1c005e51ff9496591fc9363b87fcb44",
            "_dom_classes": [],
            "description": "",
            "_model_name": "HTMLModel",
            "placeholder": "​",
            "_view_module": "@jupyter-widgets/controls",
            "_model_module_version": "1.5.0",
            "value": " 899k/899k [00:02&lt;00:00, 407kB/s]",
            "_view_count": null,
            "_view_module_version": "1.5.0",
            "description_tooltip": null,
            "_model_module": "@jupyter-widgets/controls",
            "layout": "IPY_MODEL_a8257a9b36e6439cbe2d6f59b548c8d4"
          }
        },
        "c404f0a2f4714f398426a96f8d4650c2": {
          "model_module": "@jupyter-widgets/controls",
          "model_name": "ProgressStyleModel",
          "state": {
            "_view_name": "StyleView",
            "_model_name": "ProgressStyleModel",
            "description_width": "initial",
            "_view_module": "@jupyter-widgets/base",
            "_model_module_version": "1.5.0",
            "_view_count": null,
            "_view_module_version": "1.2.0",
            "bar_color": null,
            "_model_module": "@jupyter-widgets/controls"
          }
        },
        "b159746bd4a343128e2001c2e08ccd4a": {
          "model_module": "@jupyter-widgets/base",
          "model_name": "LayoutModel",
          "state": {
            "_view_name": "LayoutView",
            "grid_template_rows": null,
            "right": null,
            "justify_content": null,
            "_view_module": "@jupyter-widgets/base",
            "overflow": null,
            "_model_module_version": "1.2.0",
            "_view_count": null,
            "flex_flow": null,
            "width": null,
            "min_width": null,
            "border": null,
            "align_items": null,
            "bottom": null,
            "_model_module": "@jupyter-widgets/base",
            "top": null,
            "grid_column": null,
            "overflow_y": null,
            "overflow_x": null,
            "grid_auto_flow": null,
            "grid_area": null,
            "grid_template_columns": null,
            "flex": null,
            "_model_name": "LayoutModel",
            "justify_items": null,
            "grid_row": null,
            "max_height": null,
            "align_content": null,
            "visibility": null,
            "align_self": null,
            "height": null,
            "min_height": null,
            "padding": null,
            "grid_auto_rows": null,
            "grid_gap": null,
            "max_width": null,
            "order": null,
            "_view_module_version": "1.2.0",
            "grid_template_areas": null,
            "object_position": null,
            "object_fit": null,
            "grid_auto_columns": null,
            "margin": null,
            "display": null,
            "left": null
          }
        },
        "e1c005e51ff9496591fc9363b87fcb44": {
          "model_module": "@jupyter-widgets/controls",
          "model_name": "DescriptionStyleModel",
          "state": {
            "_view_name": "StyleView",
            "_model_name": "DescriptionStyleModel",
            "description_width": "",
            "_view_module": "@jupyter-widgets/base",
            "_model_module_version": "1.5.0",
            "_view_count": null,
            "_view_module_version": "1.2.0",
            "_model_module": "@jupyter-widgets/controls"
          }
        },
        "a8257a9b36e6439cbe2d6f59b548c8d4": {
          "model_module": "@jupyter-widgets/base",
          "model_name": "LayoutModel",
          "state": {
            "_view_name": "LayoutView",
            "grid_template_rows": null,
            "right": null,
            "justify_content": null,
            "_view_module": "@jupyter-widgets/base",
            "overflow": null,
            "_model_module_version": "1.2.0",
            "_view_count": null,
            "flex_flow": null,
            "width": null,
            "min_width": null,
            "border": null,
            "align_items": null,
            "bottom": null,
            "_model_module": "@jupyter-widgets/base",
            "top": null,
            "grid_column": null,
            "overflow_y": null,
            "overflow_x": null,
            "grid_auto_flow": null,
            "grid_area": null,
            "grid_template_columns": null,
            "flex": null,
            "_model_name": "LayoutModel",
            "justify_items": null,
            "grid_row": null,
            "max_height": null,
            "align_content": null,
            "visibility": null,
            "align_self": null,
            "height": null,
            "min_height": null,
            "padding": null,
            "grid_auto_rows": null,
            "grid_gap": null,
            "max_width": null,
            "order": null,
            "_view_module_version": "1.2.0",
            "grid_template_areas": null,
            "object_position": null,
            "object_fit": null,
            "grid_auto_columns": null,
            "margin": null,
            "display": null,
            "left": null
          }
        },
        "32a9bf2c449145e9a731cd33b2df63ab": {
          "model_module": "@jupyter-widgets/controls",
          "model_name": "HBoxModel",
          "state": {
            "_view_name": "HBoxView",
            "_dom_classes": [],
            "_model_name": "HBoxModel",
            "_view_module": "@jupyter-widgets/controls",
            "_model_module_version": "1.5.0",
            "_view_count": null,
            "_view_module_version": "1.5.0",
            "box_style": "",
            "layout": "IPY_MODEL_3b9ff3a5f59249528f533996637ab8ef",
            "_model_module": "@jupyter-widgets/controls",
            "children": [
              "IPY_MODEL_061cde283c4d422fb69662896483be0e",
              "IPY_MODEL_58fc75a7090840958753d1802900a810"
            ]
          }
        },
        "3b9ff3a5f59249528f533996637ab8ef": {
          "model_module": "@jupyter-widgets/base",
          "model_name": "LayoutModel",
          "state": {
            "_view_name": "LayoutView",
            "grid_template_rows": null,
            "right": null,
            "justify_content": null,
            "_view_module": "@jupyter-widgets/base",
            "overflow": null,
            "_model_module_version": "1.2.0",
            "_view_count": null,
            "flex_flow": null,
            "width": null,
            "min_width": null,
            "border": null,
            "align_items": null,
            "bottom": null,
            "_model_module": "@jupyter-widgets/base",
            "top": null,
            "grid_column": null,
            "overflow_y": null,
            "overflow_x": null,
            "grid_auto_flow": null,
            "grid_area": null,
            "grid_template_columns": null,
            "flex": null,
            "_model_name": "LayoutModel",
            "justify_items": null,
            "grid_row": null,
            "max_height": null,
            "align_content": null,
            "visibility": null,
            "align_self": null,
            "height": null,
            "min_height": null,
            "padding": null,
            "grid_auto_rows": null,
            "grid_gap": null,
            "max_width": null,
            "order": null,
            "_view_module_version": "1.2.0",
            "grid_template_areas": null,
            "object_position": null,
            "object_fit": null,
            "grid_auto_columns": null,
            "margin": null,
            "display": null,
            "left": null
          }
        },
        "061cde283c4d422fb69662896483be0e": {
          "model_module": "@jupyter-widgets/controls",
          "model_name": "FloatProgressModel",
          "state": {
            "_view_name": "ProgressView",
            "style": "IPY_MODEL_5e832479b2a2442e8b6cb86b3925811c",
            "_dom_classes": [],
            "description": "Downloading: 100%",
            "_model_name": "FloatProgressModel",
            "bar_style": "success",
            "max": 456318,
            "_view_module": "@jupyter-widgets/controls",
            "_model_module_version": "1.5.0",
            "value": 456318,
            "_view_count": null,
            "_view_module_version": "1.5.0",
            "orientation": "horizontal",
            "min": 0,
            "description_tooltip": null,
            "_model_module": "@jupyter-widgets/controls",
            "layout": "IPY_MODEL_cae7be5a9c794b21b6089038445b0bad"
          }
        },
        "58fc75a7090840958753d1802900a810": {
          "model_module": "@jupyter-widgets/controls",
          "model_name": "HTMLModel",
          "state": {
            "_view_name": "HTMLView",
            "style": "IPY_MODEL_14ceb31613494423851f700b6e8edef8",
            "_dom_classes": [],
            "description": "",
            "_model_name": "HTMLModel",
            "placeholder": "​",
            "_view_module": "@jupyter-widgets/controls",
            "_model_module_version": "1.5.0",
            "value": " 456k/456k [00:01&lt;00:00, 356kB/s]",
            "_view_count": null,
            "_view_module_version": "1.5.0",
            "description_tooltip": null,
            "_model_module": "@jupyter-widgets/controls",
            "layout": "IPY_MODEL_b5fb37c812c84764a61872f9faa67b15"
          }
        },
        "5e832479b2a2442e8b6cb86b3925811c": {
          "model_module": "@jupyter-widgets/controls",
          "model_name": "ProgressStyleModel",
          "state": {
            "_view_name": "StyleView",
            "_model_name": "ProgressStyleModel",
            "description_width": "initial",
            "_view_module": "@jupyter-widgets/base",
            "_model_module_version": "1.5.0",
            "_view_count": null,
            "_view_module_version": "1.2.0",
            "bar_color": null,
            "_model_module": "@jupyter-widgets/controls"
          }
        },
        "cae7be5a9c794b21b6089038445b0bad": {
          "model_module": "@jupyter-widgets/base",
          "model_name": "LayoutModel",
          "state": {
            "_view_name": "LayoutView",
            "grid_template_rows": null,
            "right": null,
            "justify_content": null,
            "_view_module": "@jupyter-widgets/base",
            "overflow": null,
            "_model_module_version": "1.2.0",
            "_view_count": null,
            "flex_flow": null,
            "width": null,
            "min_width": null,
            "border": null,
            "align_items": null,
            "bottom": null,
            "_model_module": "@jupyter-widgets/base",
            "top": null,
            "grid_column": null,
            "overflow_y": null,
            "overflow_x": null,
            "grid_auto_flow": null,
            "grid_area": null,
            "grid_template_columns": null,
            "flex": null,
            "_model_name": "LayoutModel",
            "justify_items": null,
            "grid_row": null,
            "max_height": null,
            "align_content": null,
            "visibility": null,
            "align_self": null,
            "height": null,
            "min_height": null,
            "padding": null,
            "grid_auto_rows": null,
            "grid_gap": null,
            "max_width": null,
            "order": null,
            "_view_module_version": "1.2.0",
            "grid_template_areas": null,
            "object_position": null,
            "object_fit": null,
            "grid_auto_columns": null,
            "margin": null,
            "display": null,
            "left": null
          }
        },
        "14ceb31613494423851f700b6e8edef8": {
          "model_module": "@jupyter-widgets/controls",
          "model_name": "DescriptionStyleModel",
          "state": {
            "_view_name": "StyleView",
            "_model_name": "DescriptionStyleModel",
            "description_width": "",
            "_view_module": "@jupyter-widgets/base",
            "_model_module_version": "1.5.0",
            "_view_count": null,
            "_view_module_version": "1.2.0",
            "_model_module": "@jupyter-widgets/controls"
          }
        },
        "b5fb37c812c84764a61872f9faa67b15": {
          "model_module": "@jupyter-widgets/base",
          "model_name": "LayoutModel",
          "state": {
            "_view_name": "LayoutView",
            "grid_template_rows": null,
            "right": null,
            "justify_content": null,
            "_view_module": "@jupyter-widgets/base",
            "overflow": null,
            "_model_module_version": "1.2.0",
            "_view_count": null,
            "flex_flow": null,
            "width": null,
            "min_width": null,
            "border": null,
            "align_items": null,
            "bottom": null,
            "_model_module": "@jupyter-widgets/base",
            "top": null,
            "grid_column": null,
            "overflow_y": null,
            "overflow_x": null,
            "grid_auto_flow": null,
            "grid_area": null,
            "grid_template_columns": null,
            "flex": null,
            "_model_name": "LayoutModel",
            "justify_items": null,
            "grid_row": null,
            "max_height": null,
            "align_content": null,
            "visibility": null,
            "align_self": null,
            "height": null,
            "min_height": null,
            "padding": null,
            "grid_auto_rows": null,
            "grid_gap": null,
            "max_width": null,
            "order": null,
            "_view_module_version": "1.2.0",
            "grid_template_areas": null,
            "object_position": null,
            "object_fit": null,
            "grid_auto_columns": null,
            "margin": null,
            "display": null,
            "left": null
          }
        },
        "758c88789c854758be28f8608f887109": {
          "model_module": "@jupyter-widgets/controls",
          "model_name": "HBoxModel",
          "state": {
            "_view_name": "HBoxView",
            "_dom_classes": [],
            "_model_name": "HBoxModel",
            "_view_module": "@jupyter-widgets/controls",
            "_model_module_version": "1.5.0",
            "_view_count": null,
            "_view_module_version": "1.5.0",
            "box_style": "",
            "layout": "IPY_MODEL_a35b637baa94492181b25c668cb00142",
            "_model_module": "@jupyter-widgets/controls",
            "children": [
              "IPY_MODEL_55f54ed19d2f4e0fbe83ca463d481162",
              "IPY_MODEL_43a345819199484f85af1129da889e2d"
            ]
          }
        },
        "a35b637baa94492181b25c668cb00142": {
          "model_module": "@jupyter-widgets/base",
          "model_name": "LayoutModel",
          "state": {
            "_view_name": "LayoutView",
            "grid_template_rows": null,
            "right": null,
            "justify_content": null,
            "_view_module": "@jupyter-widgets/base",
            "overflow": null,
            "_model_module_version": "1.2.0",
            "_view_count": null,
            "flex_flow": null,
            "width": null,
            "min_width": null,
            "border": null,
            "align_items": null,
            "bottom": null,
            "_model_module": "@jupyter-widgets/base",
            "top": null,
            "grid_column": null,
            "overflow_y": null,
            "overflow_x": null,
            "grid_auto_flow": null,
            "grid_area": null,
            "grid_template_columns": null,
            "flex": null,
            "_model_name": "LayoutModel",
            "justify_items": null,
            "grid_row": null,
            "max_height": null,
            "align_content": null,
            "visibility": null,
            "align_self": null,
            "height": null,
            "min_height": null,
            "padding": null,
            "grid_auto_rows": null,
            "grid_gap": null,
            "max_width": null,
            "order": null,
            "_view_module_version": "1.2.0",
            "grid_template_areas": null,
            "object_position": null,
            "object_fit": null,
            "grid_auto_columns": null,
            "margin": null,
            "display": null,
            "left": null
          }
        },
        "55f54ed19d2f4e0fbe83ca463d481162": {
          "model_module": "@jupyter-widgets/controls",
          "model_name": "FloatProgressModel",
          "state": {
            "_view_name": "ProgressView",
            "style": "IPY_MODEL_737d75ddd60848c289e009725b8242d3",
            "_dom_classes": [],
            "description": "Downloading: 100%",
            "_model_name": "FloatProgressModel",
            "bar_style": "success",
            "max": 150,
            "_view_module": "@jupyter-widgets/controls",
            "_model_module_version": "1.5.0",
            "value": 150,
            "_view_count": null,
            "_view_module_version": "1.5.0",
            "orientation": "horizontal",
            "min": 0,
            "description_tooltip": null,
            "_model_module": "@jupyter-widgets/controls",
            "layout": "IPY_MODEL_c113c68804b34da0893d2120b5fc13cc"
          }
        },
        "43a345819199484f85af1129da889e2d": {
          "model_module": "@jupyter-widgets/controls",
          "model_name": "HTMLModel",
          "state": {
            "_view_name": "HTMLView",
            "style": "IPY_MODEL_6b7e33f5a1014007accc9e0bd93d9cb8",
            "_dom_classes": [],
            "description": "",
            "_model_name": "HTMLModel",
            "placeholder": "​",
            "_view_module": "@jupyter-widgets/controls",
            "_model_module_version": "1.5.0",
            "value": " 150/150 [00:01&lt;00:00, 146B/s]",
            "_view_count": null,
            "_view_module_version": "1.5.0",
            "description_tooltip": null,
            "_model_module": "@jupyter-widgets/controls",
            "layout": "IPY_MODEL_08401a2a57f240ba9f355dcfb58cddff"
          }
        },
        "737d75ddd60848c289e009725b8242d3": {
          "model_module": "@jupyter-widgets/controls",
          "model_name": "ProgressStyleModel",
          "state": {
            "_view_name": "StyleView",
            "_model_name": "ProgressStyleModel",
            "description_width": "initial",
            "_view_module": "@jupyter-widgets/base",
            "_model_module_version": "1.5.0",
            "_view_count": null,
            "_view_module_version": "1.2.0",
            "bar_color": null,
            "_model_module": "@jupyter-widgets/controls"
          }
        },
        "c113c68804b34da0893d2120b5fc13cc": {
          "model_module": "@jupyter-widgets/base",
          "model_name": "LayoutModel",
          "state": {
            "_view_name": "LayoutView",
            "grid_template_rows": null,
            "right": null,
            "justify_content": null,
            "_view_module": "@jupyter-widgets/base",
            "overflow": null,
            "_model_module_version": "1.2.0",
            "_view_count": null,
            "flex_flow": null,
            "width": null,
            "min_width": null,
            "border": null,
            "align_items": null,
            "bottom": null,
            "_model_module": "@jupyter-widgets/base",
            "top": null,
            "grid_column": null,
            "overflow_y": null,
            "overflow_x": null,
            "grid_auto_flow": null,
            "grid_area": null,
            "grid_template_columns": null,
            "flex": null,
            "_model_name": "LayoutModel",
            "justify_items": null,
            "grid_row": null,
            "max_height": null,
            "align_content": null,
            "visibility": null,
            "align_self": null,
            "height": null,
            "min_height": null,
            "padding": null,
            "grid_auto_rows": null,
            "grid_gap": null,
            "max_width": null,
            "order": null,
            "_view_module_version": "1.2.0",
            "grid_template_areas": null,
            "object_position": null,
            "object_fit": null,
            "grid_auto_columns": null,
            "margin": null,
            "display": null,
            "left": null
          }
        },
        "6b7e33f5a1014007accc9e0bd93d9cb8": {
          "model_module": "@jupyter-widgets/controls",
          "model_name": "DescriptionStyleModel",
          "state": {
            "_view_name": "StyleView",
            "_model_name": "DescriptionStyleModel",
            "description_width": "",
            "_view_module": "@jupyter-widgets/base",
            "_model_module_version": "1.5.0",
            "_view_count": null,
            "_view_module_version": "1.2.0",
            "_model_module": "@jupyter-widgets/controls"
          }
        },
        "08401a2a57f240ba9f355dcfb58cddff": {
          "model_module": "@jupyter-widgets/base",
          "model_name": "LayoutModel",
          "state": {
            "_view_name": "LayoutView",
            "grid_template_rows": null,
            "right": null,
            "justify_content": null,
            "_view_module": "@jupyter-widgets/base",
            "overflow": null,
            "_model_module_version": "1.2.0",
            "_view_count": null,
            "flex_flow": null,
            "width": null,
            "min_width": null,
            "border": null,
            "align_items": null,
            "bottom": null,
            "_model_module": "@jupyter-widgets/base",
            "top": null,
            "grid_column": null,
            "overflow_y": null,
            "overflow_x": null,
            "grid_auto_flow": null,
            "grid_area": null,
            "grid_template_columns": null,
            "flex": null,
            "_model_name": "LayoutModel",
            "justify_items": null,
            "grid_row": null,
            "max_height": null,
            "align_content": null,
            "visibility": null,
            "align_self": null,
            "height": null,
            "min_height": null,
            "padding": null,
            "grid_auto_rows": null,
            "grid_gap": null,
            "max_width": null,
            "order": null,
            "_view_module_version": "1.2.0",
            "grid_template_areas": null,
            "object_position": null,
            "object_fit": null,
            "grid_auto_columns": null,
            "margin": null,
            "display": null,
            "left": null
          }
        },
        "e5be8090623c48759c70fa68813a958f": {
          "model_module": "@jupyter-widgets/controls",
          "model_name": "HBoxModel",
          "state": {
            "_view_name": "HBoxView",
            "_dom_classes": [],
            "_model_name": "HBoxModel",
            "_view_module": "@jupyter-widgets/controls",
            "_model_module_version": "1.5.0",
            "_view_count": null,
            "_view_module_version": "1.5.0",
            "box_style": "",
            "layout": "IPY_MODEL_cac95fb1e6a4409cb335694b8dfccdfd",
            "_model_module": "@jupyter-widgets/controls",
            "children": [
              "IPY_MODEL_744efda85a3043858b63505bc805b7ba",
              "IPY_MODEL_b38d6e05d2524cf5bdd519b5b0fc2ad4"
            ]
          }
        },
        "cac95fb1e6a4409cb335694b8dfccdfd": {
          "model_module": "@jupyter-widgets/base",
          "model_name": "LayoutModel",
          "state": {
            "_view_name": "LayoutView",
            "grid_template_rows": null,
            "right": null,
            "justify_content": null,
            "_view_module": "@jupyter-widgets/base",
            "overflow": null,
            "_model_module_version": "1.2.0",
            "_view_count": null,
            "flex_flow": null,
            "width": null,
            "min_width": null,
            "border": null,
            "align_items": null,
            "bottom": null,
            "_model_module": "@jupyter-widgets/base",
            "top": null,
            "grid_column": null,
            "overflow_y": null,
            "overflow_x": null,
            "grid_auto_flow": null,
            "grid_area": null,
            "grid_template_columns": null,
            "flex": null,
            "_model_name": "LayoutModel",
            "justify_items": null,
            "grid_row": null,
            "max_height": null,
            "align_content": null,
            "visibility": null,
            "align_self": null,
            "height": null,
            "min_height": null,
            "padding": null,
            "grid_auto_rows": null,
            "grid_gap": null,
            "max_width": null,
            "order": null,
            "_view_module_version": "1.2.0",
            "grid_template_areas": null,
            "object_position": null,
            "object_fit": null,
            "grid_auto_columns": null,
            "margin": null,
            "display": null,
            "left": null
          }
        },
        "744efda85a3043858b63505bc805b7ba": {
          "model_module": "@jupyter-widgets/controls",
          "model_name": "FloatProgressModel",
          "state": {
            "_view_name": "ProgressView",
            "style": "IPY_MODEL_220ad6e12bd441bd8be0a8866ebb2a99",
            "_dom_classes": [],
            "description": "Downloading: 100%",
            "_model_name": "FloatProgressModel",
            "bar_style": "success",
            "max": 25,
            "_view_module": "@jupyter-widgets/controls",
            "_model_module_version": "1.5.0",
            "value": 25,
            "_view_count": null,
            "_view_module_version": "1.5.0",
            "orientation": "horizontal",
            "min": 0,
            "description_tooltip": null,
            "_model_module": "@jupyter-widgets/controls",
            "layout": "IPY_MODEL_450a0b7f057f4096a179107b3fc81947"
          }
        },
        "b38d6e05d2524cf5bdd519b5b0fc2ad4": {
          "model_module": "@jupyter-widgets/controls",
          "model_name": "HTMLModel",
          "state": {
            "_view_name": "HTMLView",
            "style": "IPY_MODEL_08651caa352649b7be10cbb7b2c26883",
            "_dom_classes": [],
            "description": "",
            "_model_name": "HTMLModel",
            "placeholder": "​",
            "_view_module": "@jupyter-widgets/controls",
            "_model_module_version": "1.5.0",
            "value": " 25.0/25.0 [00:00&lt;00:00, 63.6B/s]",
            "_view_count": null,
            "_view_module_version": "1.5.0",
            "description_tooltip": null,
            "_model_module": "@jupyter-widgets/controls",
            "layout": "IPY_MODEL_b122d6fec2d5495eb735101187520418"
          }
        },
        "220ad6e12bd441bd8be0a8866ebb2a99": {
          "model_module": "@jupyter-widgets/controls",
          "model_name": "ProgressStyleModel",
          "state": {
            "_view_name": "StyleView",
            "_model_name": "ProgressStyleModel",
            "description_width": "initial",
            "_view_module": "@jupyter-widgets/base",
            "_model_module_version": "1.5.0",
            "_view_count": null,
            "_view_module_version": "1.2.0",
            "bar_color": null,
            "_model_module": "@jupyter-widgets/controls"
          }
        },
        "450a0b7f057f4096a179107b3fc81947": {
          "model_module": "@jupyter-widgets/base",
          "model_name": "LayoutModel",
          "state": {
            "_view_name": "LayoutView",
            "grid_template_rows": null,
            "right": null,
            "justify_content": null,
            "_view_module": "@jupyter-widgets/base",
            "overflow": null,
            "_model_module_version": "1.2.0",
            "_view_count": null,
            "flex_flow": null,
            "width": null,
            "min_width": null,
            "border": null,
            "align_items": null,
            "bottom": null,
            "_model_module": "@jupyter-widgets/base",
            "top": null,
            "grid_column": null,
            "overflow_y": null,
            "overflow_x": null,
            "grid_auto_flow": null,
            "grid_area": null,
            "grid_template_columns": null,
            "flex": null,
            "_model_name": "LayoutModel",
            "justify_items": null,
            "grid_row": null,
            "max_height": null,
            "align_content": null,
            "visibility": null,
            "align_self": null,
            "height": null,
            "min_height": null,
            "padding": null,
            "grid_auto_rows": null,
            "grid_gap": null,
            "max_width": null,
            "order": null,
            "_view_module_version": "1.2.0",
            "grid_template_areas": null,
            "object_position": null,
            "object_fit": null,
            "grid_auto_columns": null,
            "margin": null,
            "display": null,
            "left": null
          }
        },
        "08651caa352649b7be10cbb7b2c26883": {
          "model_module": "@jupyter-widgets/controls",
          "model_name": "DescriptionStyleModel",
          "state": {
            "_view_name": "StyleView",
            "_model_name": "DescriptionStyleModel",
            "description_width": "",
            "_view_module": "@jupyter-widgets/base",
            "_model_module_version": "1.5.0",
            "_view_count": null,
            "_view_module_version": "1.2.0",
            "_model_module": "@jupyter-widgets/controls"
          }
        },
        "b122d6fec2d5495eb735101187520418": {
          "model_module": "@jupyter-widgets/base",
          "model_name": "LayoutModel",
          "state": {
            "_view_name": "LayoutView",
            "grid_template_rows": null,
            "right": null,
            "justify_content": null,
            "_view_module": "@jupyter-widgets/base",
            "overflow": null,
            "_model_module_version": "1.2.0",
            "_view_count": null,
            "flex_flow": null,
            "width": null,
            "min_width": null,
            "border": null,
            "align_items": null,
            "bottom": null,
            "_model_module": "@jupyter-widgets/base",
            "top": null,
            "grid_column": null,
            "overflow_y": null,
            "overflow_x": null,
            "grid_auto_flow": null,
            "grid_area": null,
            "grid_template_columns": null,
            "flex": null,
            "_model_name": "LayoutModel",
            "justify_items": null,
            "grid_row": null,
            "max_height": null,
            "align_content": null,
            "visibility": null,
            "align_self": null,
            "height": null,
            "min_height": null,
            "padding": null,
            "grid_auto_rows": null,
            "grid_gap": null,
            "max_width": null,
            "order": null,
            "_view_module_version": "1.2.0",
            "grid_template_areas": null,
            "object_position": null,
            "object_fit": null,
            "grid_auto_columns": null,
            "margin": null,
            "display": null,
            "left": null
          }
        },
        "5bc54dab4d9b4984829cb0c4d2233867": {
          "model_module": "@jupyter-widgets/controls",
          "model_name": "HBoxModel",
          "state": {
            "_view_name": "HBoxView",
            "_dom_classes": [],
            "_model_name": "HBoxModel",
            "_view_module": "@jupyter-widgets/controls",
            "_model_module_version": "1.5.0",
            "_view_count": null,
            "_view_module_version": "1.5.0",
            "box_style": "",
            "layout": "IPY_MODEL_c1158644d1c74b9e83b0a6030d6d2a95",
            "_model_module": "@jupyter-widgets/controls",
            "children": [
              "IPY_MODEL_16640171c7804c23933d48c8381c68cc",
              "IPY_MODEL_015de02fbd554ee9a6c77fe781edd1c6"
            ]
          }
        },
        "c1158644d1c74b9e83b0a6030d6d2a95": {
          "model_module": "@jupyter-widgets/base",
          "model_name": "LayoutModel",
          "state": {
            "_view_name": "LayoutView",
            "grid_template_rows": null,
            "right": null,
            "justify_content": null,
            "_view_module": "@jupyter-widgets/base",
            "overflow": null,
            "_model_module_version": "1.2.0",
            "_view_count": null,
            "flex_flow": null,
            "width": null,
            "min_width": null,
            "border": null,
            "align_items": null,
            "bottom": null,
            "_model_module": "@jupyter-widgets/base",
            "top": null,
            "grid_column": null,
            "overflow_y": null,
            "overflow_x": null,
            "grid_auto_flow": null,
            "grid_area": null,
            "grid_template_columns": null,
            "flex": null,
            "_model_name": "LayoutModel",
            "justify_items": null,
            "grid_row": null,
            "max_height": null,
            "align_content": null,
            "visibility": null,
            "align_self": null,
            "height": null,
            "min_height": null,
            "padding": null,
            "grid_auto_rows": null,
            "grid_gap": null,
            "max_width": null,
            "order": null,
            "_view_module_version": "1.2.0",
            "grid_template_areas": null,
            "object_position": null,
            "object_fit": null,
            "grid_auto_columns": null,
            "margin": null,
            "display": null,
            "left": null
          }
        },
        "16640171c7804c23933d48c8381c68cc": {
          "model_module": "@jupyter-widgets/controls",
          "model_name": "FloatProgressModel",
          "state": {
            "_view_name": "ProgressView",
            "style": "IPY_MODEL_e0391323a27d45ba970af1ff320f6bd7",
            "_dom_classes": [],
            "description": "Downloading: 100%",
            "_model_name": "FloatProgressModel",
            "bar_style": "success",
            "max": 498,
            "_view_module": "@jupyter-widgets/controls",
            "_model_module_version": "1.5.0",
            "value": 498,
            "_view_count": null,
            "_view_module_version": "1.5.0",
            "orientation": "horizontal",
            "min": 0,
            "description_tooltip": null,
            "_model_module": "@jupyter-widgets/controls",
            "layout": "IPY_MODEL_014f3767e08049c9a3103c742f1f339c"
          }
        },
        "015de02fbd554ee9a6c77fe781edd1c6": {
          "model_module": "@jupyter-widgets/controls",
          "model_name": "HTMLModel",
          "state": {
            "_view_name": "HTMLView",
            "style": "IPY_MODEL_1d0d07e0e3c840ca9331be8878f742c2",
            "_dom_classes": [],
            "description": "",
            "_model_name": "HTMLModel",
            "placeholder": "​",
            "_view_module": "@jupyter-widgets/controls",
            "_model_module_version": "1.5.0",
            "value": " 498/498 [00:25&lt;00:00, 19.2B/s]",
            "_view_count": null,
            "_view_module_version": "1.5.0",
            "description_tooltip": null,
            "_model_module": "@jupyter-widgets/controls",
            "layout": "IPY_MODEL_f664f5f101bb455c82a608b921ea6f42"
          }
        },
        "e0391323a27d45ba970af1ff320f6bd7": {
          "model_module": "@jupyter-widgets/controls",
          "model_name": "ProgressStyleModel",
          "state": {
            "_view_name": "StyleView",
            "_model_name": "ProgressStyleModel",
            "description_width": "initial",
            "_view_module": "@jupyter-widgets/base",
            "_model_module_version": "1.5.0",
            "_view_count": null,
            "_view_module_version": "1.2.0",
            "bar_color": null,
            "_model_module": "@jupyter-widgets/controls"
          }
        },
        "014f3767e08049c9a3103c742f1f339c": {
          "model_module": "@jupyter-widgets/base",
          "model_name": "LayoutModel",
          "state": {
            "_view_name": "LayoutView",
            "grid_template_rows": null,
            "right": null,
            "justify_content": null,
            "_view_module": "@jupyter-widgets/base",
            "overflow": null,
            "_model_module_version": "1.2.0",
            "_view_count": null,
            "flex_flow": null,
            "width": null,
            "min_width": null,
            "border": null,
            "align_items": null,
            "bottom": null,
            "_model_module": "@jupyter-widgets/base",
            "top": null,
            "grid_column": null,
            "overflow_y": null,
            "overflow_x": null,
            "grid_auto_flow": null,
            "grid_area": null,
            "grid_template_columns": null,
            "flex": null,
            "_model_name": "LayoutModel",
            "justify_items": null,
            "grid_row": null,
            "max_height": null,
            "align_content": null,
            "visibility": null,
            "align_self": null,
            "height": null,
            "min_height": null,
            "padding": null,
            "grid_auto_rows": null,
            "grid_gap": null,
            "max_width": null,
            "order": null,
            "_view_module_version": "1.2.0",
            "grid_template_areas": null,
            "object_position": null,
            "object_fit": null,
            "grid_auto_columns": null,
            "margin": null,
            "display": null,
            "left": null
          }
        },
        "1d0d07e0e3c840ca9331be8878f742c2": {
          "model_module": "@jupyter-widgets/controls",
          "model_name": "DescriptionStyleModel",
          "state": {
            "_view_name": "StyleView",
            "_model_name": "DescriptionStyleModel",
            "description_width": "",
            "_view_module": "@jupyter-widgets/base",
            "_model_module_version": "1.5.0",
            "_view_count": null,
            "_view_module_version": "1.2.0",
            "_model_module": "@jupyter-widgets/controls"
          }
        },
        "f664f5f101bb455c82a608b921ea6f42": {
          "model_module": "@jupyter-widgets/base",
          "model_name": "LayoutModel",
          "state": {
            "_view_name": "LayoutView",
            "grid_template_rows": null,
            "right": null,
            "justify_content": null,
            "_view_module": "@jupyter-widgets/base",
            "overflow": null,
            "_model_module_version": "1.2.0",
            "_view_count": null,
            "flex_flow": null,
            "width": null,
            "min_width": null,
            "border": null,
            "align_items": null,
            "bottom": null,
            "_model_module": "@jupyter-widgets/base",
            "top": null,
            "grid_column": null,
            "overflow_y": null,
            "overflow_x": null,
            "grid_auto_flow": null,
            "grid_area": null,
            "grid_template_columns": null,
            "flex": null,
            "_model_name": "LayoutModel",
            "justify_items": null,
            "grid_row": null,
            "max_height": null,
            "align_content": null,
            "visibility": null,
            "align_self": null,
            "height": null,
            "min_height": null,
            "padding": null,
            "grid_auto_rows": null,
            "grid_gap": null,
            "max_width": null,
            "order": null,
            "_view_module_version": "1.2.0",
            "grid_template_areas": null,
            "object_position": null,
            "object_fit": null,
            "grid_auto_columns": null,
            "margin": null,
            "display": null,
            "left": null
          }
        },
        "faf71c2f9ce04d229245cb0b39f29cb5": {
          "model_module": "@jupyter-widgets/controls",
          "model_name": "HBoxModel",
          "state": {
            "_view_name": "HBoxView",
            "_dom_classes": [],
            "_model_name": "HBoxModel",
            "_view_module": "@jupyter-widgets/controls",
            "_model_module_version": "1.5.0",
            "_view_count": null,
            "_view_module_version": "1.5.0",
            "box_style": "",
            "layout": "IPY_MODEL_ad1b5137e684488eba3768ed38f17f70",
            "_model_module": "@jupyter-widgets/controls",
            "children": [
              "IPY_MODEL_a7bffb9cde2a4eb385f5ed29f683799b",
              "IPY_MODEL_7256b012327b4014b092e2731df47ce5"
            ]
          }
        },
        "ad1b5137e684488eba3768ed38f17f70": {
          "model_module": "@jupyter-widgets/base",
          "model_name": "LayoutModel",
          "state": {
            "_view_name": "LayoutView",
            "grid_template_rows": null,
            "right": null,
            "justify_content": null,
            "_view_module": "@jupyter-widgets/base",
            "overflow": null,
            "_model_module_version": "1.2.0",
            "_view_count": null,
            "flex_flow": null,
            "width": null,
            "min_width": null,
            "border": null,
            "align_items": null,
            "bottom": null,
            "_model_module": "@jupyter-widgets/base",
            "top": null,
            "grid_column": null,
            "overflow_y": null,
            "overflow_x": null,
            "grid_auto_flow": null,
            "grid_area": null,
            "grid_template_columns": null,
            "flex": null,
            "_model_name": "LayoutModel",
            "justify_items": null,
            "grid_row": null,
            "max_height": null,
            "align_content": null,
            "visibility": null,
            "align_self": null,
            "height": null,
            "min_height": null,
            "padding": null,
            "grid_auto_rows": null,
            "grid_gap": null,
            "max_width": null,
            "order": null,
            "_view_module_version": "1.2.0",
            "grid_template_areas": null,
            "object_position": null,
            "object_fit": null,
            "grid_auto_columns": null,
            "margin": null,
            "display": null,
            "left": null
          }
        },
        "a7bffb9cde2a4eb385f5ed29f683799b": {
          "model_module": "@jupyter-widgets/controls",
          "model_name": "FloatProgressModel",
          "state": {
            "_view_name": "ProgressView",
            "style": "IPY_MODEL_70369765a808498ca4e452b3896f635c",
            "_dom_classes": [],
            "description": "Downloading: 100%",
            "_model_name": "FloatProgressModel",
            "bar_style": "success",
            "max": 498627950,
            "_view_module": "@jupyter-widgets/controls",
            "_model_module_version": "1.5.0",
            "value": 498627950,
            "_view_count": null,
            "_view_module_version": "1.5.0",
            "orientation": "horizontal",
            "min": 0,
            "description_tooltip": null,
            "_model_module": "@jupyter-widgets/controls",
            "layout": "IPY_MODEL_8a04be9fef5b40eca7b8b166fd2b2045"
          }
        },
        "7256b012327b4014b092e2731df47ce5": {
          "model_module": "@jupyter-widgets/controls",
          "model_name": "HTMLModel",
          "state": {
            "_view_name": "HTMLView",
            "style": "IPY_MODEL_4cee8dfd7db94f9a893889104ff65648",
            "_dom_classes": [],
            "description": "",
            "_model_name": "HTMLModel",
            "placeholder": "​",
            "_view_module": "@jupyter-widgets/controls",
            "_model_module_version": "1.5.0",
            "value": " 499M/499M [00:07&lt;00:00, 64.3MB/s]",
            "_view_count": null,
            "_view_module_version": "1.5.0",
            "description_tooltip": null,
            "_model_module": "@jupyter-widgets/controls",
            "layout": "IPY_MODEL_e21278d01f3848e8803a23ffa196ed6d"
          }
        },
        "70369765a808498ca4e452b3896f635c": {
          "model_module": "@jupyter-widgets/controls",
          "model_name": "ProgressStyleModel",
          "state": {
            "_view_name": "StyleView",
            "_model_name": "ProgressStyleModel",
            "description_width": "initial",
            "_view_module": "@jupyter-widgets/base",
            "_model_module_version": "1.5.0",
            "_view_count": null,
            "_view_module_version": "1.2.0",
            "bar_color": null,
            "_model_module": "@jupyter-widgets/controls"
          }
        },
        "8a04be9fef5b40eca7b8b166fd2b2045": {
          "model_module": "@jupyter-widgets/base",
          "model_name": "LayoutModel",
          "state": {
            "_view_name": "LayoutView",
            "grid_template_rows": null,
            "right": null,
            "justify_content": null,
            "_view_module": "@jupyter-widgets/base",
            "overflow": null,
            "_model_module_version": "1.2.0",
            "_view_count": null,
            "flex_flow": null,
            "width": null,
            "min_width": null,
            "border": null,
            "align_items": null,
            "bottom": null,
            "_model_module": "@jupyter-widgets/base",
            "top": null,
            "grid_column": null,
            "overflow_y": null,
            "overflow_x": null,
            "grid_auto_flow": null,
            "grid_area": null,
            "grid_template_columns": null,
            "flex": null,
            "_model_name": "LayoutModel",
            "justify_items": null,
            "grid_row": null,
            "max_height": null,
            "align_content": null,
            "visibility": null,
            "align_self": null,
            "height": null,
            "min_height": null,
            "padding": null,
            "grid_auto_rows": null,
            "grid_gap": null,
            "max_width": null,
            "order": null,
            "_view_module_version": "1.2.0",
            "grid_template_areas": null,
            "object_position": null,
            "object_fit": null,
            "grid_auto_columns": null,
            "margin": null,
            "display": null,
            "left": null
          }
        },
        "4cee8dfd7db94f9a893889104ff65648": {
          "model_module": "@jupyter-widgets/controls",
          "model_name": "DescriptionStyleModel",
          "state": {
            "_view_name": "StyleView",
            "_model_name": "DescriptionStyleModel",
            "description_width": "",
            "_view_module": "@jupyter-widgets/base",
            "_model_module_version": "1.5.0",
            "_view_count": null,
            "_view_module_version": "1.2.0",
            "_model_module": "@jupyter-widgets/controls"
          }
        },
        "e21278d01f3848e8803a23ffa196ed6d": {
          "model_module": "@jupyter-widgets/base",
          "model_name": "LayoutModel",
          "state": {
            "_view_name": "LayoutView",
            "grid_template_rows": null,
            "right": null,
            "justify_content": null,
            "_view_module": "@jupyter-widgets/base",
            "overflow": null,
            "_model_module_version": "1.2.0",
            "_view_count": null,
            "flex_flow": null,
            "width": null,
            "min_width": null,
            "border": null,
            "align_items": null,
            "bottom": null,
            "_model_module": "@jupyter-widgets/base",
            "top": null,
            "grid_column": null,
            "overflow_y": null,
            "overflow_x": null,
            "grid_auto_flow": null,
            "grid_area": null,
            "grid_template_columns": null,
            "flex": null,
            "_model_name": "LayoutModel",
            "justify_items": null,
            "grid_row": null,
            "max_height": null,
            "align_content": null,
            "visibility": null,
            "align_self": null,
            "height": null,
            "min_height": null,
            "padding": null,
            "grid_auto_rows": null,
            "grid_gap": null,
            "max_width": null,
            "order": null,
            "_view_module_version": "1.2.0",
            "grid_template_areas": null,
            "object_position": null,
            "object_fit": null,
            "grid_auto_columns": null,
            "margin": null,
            "display": null,
            "left": null
          }
        },
        "cc954ceb413643b0bcfa4cf5871c293b": {
          "model_module": "@jupyter-widgets/controls",
          "model_name": "HBoxModel",
          "state": {
            "_view_name": "HBoxView",
            "_dom_classes": [],
            "_model_name": "HBoxModel",
            "_view_module": "@jupyter-widgets/controls",
            "_model_module_version": "1.5.0",
            "_view_count": null,
            "_view_module_version": "1.5.0",
            "box_style": "",
            "layout": "IPY_MODEL_3a45041eb18b496db2aa15df88cbd347",
            "_model_module": "@jupyter-widgets/controls",
            "children": [
              "IPY_MODEL_86497ca39b834ea6bf01ddc80a117540",
              "IPY_MODEL_7fe5cf5fb505453a8be10d3f9cf7ea9c"
            ]
          }
        },
        "3a45041eb18b496db2aa15df88cbd347": {
          "model_module": "@jupyter-widgets/base",
          "model_name": "LayoutModel",
          "state": {
            "_view_name": "LayoutView",
            "grid_template_rows": null,
            "right": null,
            "justify_content": null,
            "_view_module": "@jupyter-widgets/base",
            "overflow": null,
            "_model_module_version": "1.2.0",
            "_view_count": null,
            "flex_flow": null,
            "width": null,
            "min_width": null,
            "border": null,
            "align_items": null,
            "bottom": null,
            "_model_module": "@jupyter-widgets/base",
            "top": null,
            "grid_column": null,
            "overflow_y": null,
            "overflow_x": null,
            "grid_auto_flow": null,
            "grid_area": null,
            "grid_template_columns": null,
            "flex": null,
            "_model_name": "LayoutModel",
            "justify_items": null,
            "grid_row": null,
            "max_height": null,
            "align_content": null,
            "visibility": null,
            "align_self": null,
            "height": null,
            "min_height": null,
            "padding": null,
            "grid_auto_rows": null,
            "grid_gap": null,
            "max_width": null,
            "order": null,
            "_view_module_version": "1.2.0",
            "grid_template_areas": null,
            "object_position": null,
            "object_fit": null,
            "grid_auto_columns": null,
            "margin": null,
            "display": null,
            "left": null
          }
        },
        "86497ca39b834ea6bf01ddc80a117540": {
          "model_module": "@jupyter-widgets/controls",
          "model_name": "FloatProgressModel",
          "state": {
            "_view_name": "ProgressView",
            "style": "IPY_MODEL_8d4a02deddce48f3ac513b842950501f",
            "_dom_classes": [],
            "description": "",
            "_model_name": "FloatProgressModel",
            "bar_style": "danger",
            "max": 1,
            "_view_module": "@jupyter-widgets/controls",
            "_model_module_version": "1.5.0",
            "value": 1,
            "_view_count": null,
            "_view_module_version": "1.5.0",
            "orientation": "horizontal",
            "min": 0,
            "description_tooltip": null,
            "_model_module": "@jupyter-widgets/controls",
            "layout": "IPY_MODEL_ca51817ca879433aa68cf37a8895e8f3"
          }
        },
        "7fe5cf5fb505453a8be10d3f9cf7ea9c": {
          "model_module": "@jupyter-widgets/controls",
          "model_name": "HTMLModel",
          "state": {
            "_view_name": "HTMLView",
            "style": "IPY_MODEL_1cb29197b7e24df29c6c6c05bd93b74f",
            "_dom_classes": [],
            "description": "",
            "_model_name": "HTMLModel",
            "placeholder": "​",
            "_view_module": "@jupyter-widgets/controls",
            "_model_module_version": "1.5.0",
            "value": " 12120/? [30:09&lt;00:00,  6.70it/s]",
            "_view_count": null,
            "_view_module_version": "1.5.0",
            "description_tooltip": null,
            "_model_module": "@jupyter-widgets/controls",
            "layout": "IPY_MODEL_dfdedacae93d451a8fe8ab55c13cfefd"
          }
        },
        "8d4a02deddce48f3ac513b842950501f": {
          "model_module": "@jupyter-widgets/controls",
          "model_name": "ProgressStyleModel",
          "state": {
            "_view_name": "StyleView",
            "_model_name": "ProgressStyleModel",
            "description_width": "initial",
            "_view_module": "@jupyter-widgets/base",
            "_model_module_version": "1.5.0",
            "_view_count": null,
            "_view_module_version": "1.2.0",
            "bar_color": null,
            "_model_module": "@jupyter-widgets/controls"
          }
        },
        "ca51817ca879433aa68cf37a8895e8f3": {
          "model_module": "@jupyter-widgets/base",
          "model_name": "LayoutModel",
          "state": {
            "_view_name": "LayoutView",
            "grid_template_rows": null,
            "right": null,
            "justify_content": null,
            "_view_module": "@jupyter-widgets/base",
            "overflow": null,
            "_model_module_version": "1.2.0",
            "_view_count": null,
            "flex_flow": null,
            "width": null,
            "min_width": null,
            "border": null,
            "align_items": null,
            "bottom": null,
            "_model_module": "@jupyter-widgets/base",
            "top": null,
            "grid_column": null,
            "overflow_y": null,
            "overflow_x": null,
            "grid_auto_flow": null,
            "grid_area": null,
            "grid_template_columns": null,
            "flex": null,
            "_model_name": "LayoutModel",
            "justify_items": null,
            "grid_row": null,
            "max_height": null,
            "align_content": null,
            "visibility": null,
            "align_self": null,
            "height": null,
            "min_height": null,
            "padding": null,
            "grid_auto_rows": null,
            "grid_gap": null,
            "max_width": null,
            "order": null,
            "_view_module_version": "1.2.0",
            "grid_template_areas": null,
            "object_position": null,
            "object_fit": null,
            "grid_auto_columns": null,
            "margin": null,
            "display": null,
            "left": null
          }
        },
        "1cb29197b7e24df29c6c6c05bd93b74f": {
          "model_module": "@jupyter-widgets/controls",
          "model_name": "DescriptionStyleModel",
          "state": {
            "_view_name": "StyleView",
            "_model_name": "DescriptionStyleModel",
            "description_width": "",
            "_view_module": "@jupyter-widgets/base",
            "_model_module_version": "1.5.0",
            "_view_count": null,
            "_view_module_version": "1.2.0",
            "_model_module": "@jupyter-widgets/controls"
          }
        },
        "dfdedacae93d451a8fe8ab55c13cfefd": {
          "model_module": "@jupyter-widgets/base",
          "model_name": "LayoutModel",
          "state": {
            "_view_name": "LayoutView",
            "grid_template_rows": null,
            "right": null,
            "justify_content": null,
            "_view_module": "@jupyter-widgets/base",
            "overflow": null,
            "_model_module_version": "1.2.0",
            "_view_count": null,
            "flex_flow": null,
            "width": null,
            "min_width": null,
            "border": null,
            "align_items": null,
            "bottom": null,
            "_model_module": "@jupyter-widgets/base",
            "top": null,
            "grid_column": null,
            "overflow_y": null,
            "overflow_x": null,
            "grid_auto_flow": null,
            "grid_area": null,
            "grid_template_columns": null,
            "flex": null,
            "_model_name": "LayoutModel",
            "justify_items": null,
            "grid_row": null,
            "max_height": null,
            "align_content": null,
            "visibility": null,
            "align_self": null,
            "height": null,
            "min_height": null,
            "padding": null,
            "grid_auto_rows": null,
            "grid_gap": null,
            "max_width": null,
            "order": null,
            "_view_module_version": "1.2.0",
            "grid_template_areas": null,
            "object_position": null,
            "object_fit": null,
            "grid_auto_columns": null,
            "margin": null,
            "display": null,
            "left": null
          }
        }
      }
    }
  },
  "cells": [
    {
      "cell_type": "markdown",
      "metadata": {
        "id": "view-in-github",
        "colab_type": "text"
      },
      "source": [
        "<a href=\"https://colab.research.google.com/github/saridormi/notebooks/blob/master/BERT_for_Source_Code.ipynb\" target=\"_parent\"><img src=\"https://colab.research.google.com/assets/colab-badge.svg\" alt=\"Open In Colab\"/></a>"
      ]
    },
    {
      "cell_type": "markdown",
      "metadata": {
        "id": "wdUHXtT-tNT4",
        "colab_type": "text"
      },
      "source": [
        "# BERT for Source Code\n",
        "\n",
        "### Александра Елисеева, CSC\n",
        "\n",
        "Попробуем дообучить [CodeBERT](https://github.com/microsoft/CodeBERT) для задачи Function-Docstring Mismatch.\n",
        "\n",
        "## Скачиваем данные и создаем датасет для Function-Docstring Mismatch\n",
        "\n",
        "Установим необходимые зависимости."
      ]
    },
    {
      "cell_type": "code",
      "metadata": {
        "id": "U8Wjb0CVtH8A",
        "colab_type": "code",
        "colab": {}
      },
      "source": [
        "!pip install torch==1.4.0 torchvision==0.5.0 # torchvision 0.7.0 requires torch 1.6.0 and produces an error\n",
        "# transformers 2.5.0 was stated in CodeBERT repo but I really liked 3.1.0 docs \n",
        "# and docs from 2.5.0 very MUCH less informative so I decided to experiment\n",
        "# with newer version first\n",
        "!pip install transformers==3.1.0\n",
        "!pip install filelock more_itertools"
      ],
      "execution_count": null,
      "outputs": []
    },
    {
      "cell_type": "markdown",
      "metadata": {
        "id": "cNNNsb4qwVBv",
        "colab_type": "text"
      },
      "source": [
        "Насколько я понимаю, на вход модели CodeBERT подается токенизированный код. Поэтому нам нужны не распарсенные AST, а сами исходники. \n",
        "\n",
        "Для удобства скачаем архив с исходными файлами датасета [Py150](https://www.sri.inf.ethz.ch/py150) на мой гугл диск, чтобы выполнять только часть действий при каждом новом подключении к Colab. "
      ]
    },
    {
      "cell_type": "code",
      "metadata": {
        "id": "W9pBPvTmwCTM",
        "colab_type": "code",
        "colab": {}
      },
      "source": [
        "from google.colab import drive\n",
        "import os\n",
        "drive.mount('gdrive', force_remount=True)\n",
        "drive_path = \"gdrive/My Drive/\""
      ],
      "execution_count": null,
      "outputs": []
    },
    {
      "cell_type": "code",
      "metadata": {
        "id": "bx8OWyfq_QDN",
        "colab_type": "code",
        "colab": {}
      },
      "source": [
        "if 'py150' in os.listdir():\n",
        "  print(\"Dataset already downloaded and extracted\")\n",
        "else:\n",
        "  if 'py150_files.tar.gz' not in os.listdir(drive_path):\n",
        "    print(\"Downloading dataset\")\n",
        "    !wget http://files.srl.inf.ethz.ch/data/py150_files.tar.gz -P \"gdrive/My Drive\"\n",
        "    print(\"Dataset downloaded!\")\n",
        "  print(\"Extracting dataset\")\n",
        "  !mkdir py150\n",
        "  !tar xzvf \"gdrive/My Drive/py150_files.tar.gz\" -C py150\n",
        "  print(\"Extraction done!\")\n",
        "if \"data\" not in os.listdir(\"py150\"):\n",
        "  print(\"Extracting source code\")\n",
        "  !tar xzvf \"py150/data.tar.gz\" -C py150  \n",
        "  print(\"Extraction done!\")\n",
        "else:\n",
        "  print(\"Source code already extracted\")  "
      ],
      "execution_count": null,
      "outputs": []
    },
    {
      "cell_type": "markdown",
      "metadata": {
        "id": "XxqLjEl_MAsT",
        "colab_type": "text"
      },
      "source": [
        "Теперь воспользуемся модулем [ast](https://docs.python.org/3.8/library/ast.html), чтобы выделить из кода функции и docstring-и к ним. При этом в google colab используется Python версии 3.6.9, и воспользоваться прекрасной функцией [get_source_segment](https://docs.python.org/3.8/library/ast.html#ast.get_source_segment) не получается, поэтому я решила обратиться к некоторой сторонней библиотеке [astunparse](https://astunparse.readthedocs.io/en/latest/)."
      ]
    },
    {
      "cell_type": "code",
      "metadata": {
        "id": "zQSsl4jIlCx_",
        "colab_type": "code",
        "colab": {
          "base_uri": "https://localhost:8080/",
          "height": 34
        },
        "outputId": "10d0f671-74ea-435c-e6db-03e34c37ff5d"
      },
      "source": [
        "!python -V"
      ],
      "execution_count": 3,
      "outputs": [
        {
          "output_type": "stream",
          "text": [
            "Python 3.6.9\n"
          ],
          "name": "stdout"
        }
      ]
    },
    {
      "cell_type": "code",
      "metadata": {
        "id": "szE2IwJbkIXI",
        "colab_type": "code",
        "colab": {}
      },
      "source": [
        "!pip install astunparse==1.5.0"
      ],
      "execution_count": null,
      "outputs": []
    },
    {
      "cell_type": "markdown",
      "metadata": {
        "id": "VagyssxhuSve",
        "colab_type": "text"
      },
      "source": [
        "Напишем необходимый класс и функции и поэкспериментируем на одном случайном файле:"
      ]
    },
    {
      "cell_type": "code",
      "metadata": {
        "id": "fl_TaYz2VXwF",
        "colab_type": "code",
        "colab": {
          "base_uri": "https://localhost:8080/",
          "height": 748
        },
        "outputId": "c26b35f7-0d59-4068-fd9d-0a06eab7454a"
      },
      "source": [
        "import ast\n",
        "import astunparse\n",
        "from pprint import pprint\n",
        "\n",
        "\n",
        "def format_str(string):\n",
        "  \"\"\"Removes all possible newline characters from string.\"\"\"\n",
        "  for char in ['\\r\\n', '\\r', '\\n']:\n",
        "    string = string.replace(char, ' ')\n",
        "  return string\n",
        "\n",
        "\n",
        "class FunctionVisitor(ast.NodeVisitor):\n",
        "    def __init__(self):\n",
        "      \"\"\"Create empty list to store strings of format docstring<CODESPLIT>function.\"\"\"\n",
        "      self.stats = []\n",
        "      \n",
        "    def visit_FunctionDef(self, node):\n",
        "      \"\"\"When visiting FunctionDef node, saves doctring and function sourse\n",
        "      code to self.stats. Functions without doctrings are discarded.\"\"\"\n",
        "      docstring = ast.get_docstring(node)\n",
        "      if docstring is not None:\n",
        "        node.body = node.body[1:] # remove docstring from function itself\n",
        "        example = (format_str(docstring), format_str(astunparse.unparse(node)))\n",
        "        example = '<CODESPLIT>'.join(example)\n",
        "        self.stats.append(example)\n",
        "      self.generic_visit(node)\n",
        "\n",
        "    def report(self):\n",
        "      \"\"\"Print elements of self.stats\"\"\"\n",
        "      for el in self.stats:\n",
        "        print(el)\n",
        "\n",
        "    def write_to_file(self, filename, mode='w'):\n",
        "      \"\"\"Write all strings of format docstring<CODESPLIT>function to filename\n",
        "      with given mode ('w'/'a'). Each string is written on new line.\"\"\"\n",
        "      with open(filename, mode, encoding='utf-8') as f:\n",
        "        f.writelines('\\n'.join(self.stats))\n",
        "\n",
        "\n",
        "def process_file(infilename, outfilename, mode='w'):\n",
        "  \"\"\"Open file, located at path infilename, process each function with docstring\n",
        "  into format docstring<CODESPLIT>function and write it into outfilename.\"\"\"\n",
        "  with open(infilename, encoding='utf-8') as ex:\n",
        "    try:\n",
        "      tree = ast.parse(ex.read())\n",
        "    except SyntaxError:\n",
        "      print(f\"Syntax error while parsing {infilename}\")\n",
        "      return\n",
        "    except UnicodeDecodeError:  \n",
        "      print(f\"Unicode decode error while parsing {infilename}\")\n",
        "      return\n",
        "    vis = FunctionVisitor()\n",
        "    vis.visit(tree)\n",
        "    vis.write_to_file(outfilename, mode)\n",
        "\n",
        "example_file = \"py150/data/Blizzard/heroprotocol/protocol29406.py\"\n",
        "process_file(example_file, 'out.txt')\n",
        "with open('out.txt') as f:\n",
        "  pprint(f.readlines())"
      ],
      "execution_count": 5,
      "outputs": [
        {
          "output_type": "stream",
          "text": [
            "['Decodes and yields each game event from the contents byte '\n",
            " 'string.<CODESPLIT>  def decode_replay_game_events(contents):     decoder = '\n",
            " 'BitPackedDecoder(contents, typeinfos)     for event in '\n",
            " '_decode_event_stream(decoder, game_eventid_typeid, game_event_types, '\n",
            " 'decode_user_id=True):         (yield event) \\n',\n",
            " 'Decodes and yields each message event from the contents byte '\n",
            " 'string.<CODESPLIT>  def decode_replay_message_events(contents):     decoder '\n",
            " '= BitPackedDecoder(contents, typeinfos)     for event in '\n",
            " '_decode_event_stream(decoder, message_eventid_typeid, message_event_types, '\n",
            " 'decode_user_id=True):         (yield event) \\n',\n",
            " 'Decodes and yields each tracker event from the contents byte '\n",
            " 'string.<CODESPLIT>  def decode_replay_tracker_events(contents):     decoder '\n",
            " '= VersionedDecoder(contents, typeinfos)     for event in '\n",
            " '_decode_event_stream(decoder, tracker_eventid_typeid, tracker_event_types, '\n",
            " 'decode_user_id=False):         (yield event) \\n',\n",
            " 'Decodes and return the replay header from the contents byte '\n",
            " 'string.<CODESPLIT>  def decode_replay_header(contents):     decoder = '\n",
            " 'VersionedDecoder(contents, typeinfos)     return '\n",
            " 'decoder.instance(replay_header_typeid) \\n',\n",
            " 'Decodes and returns the game details from the contents byte '\n",
            " 'string.<CODESPLIT>  def decode_replay_details(contents):     decoder = '\n",
            " 'VersionedDecoder(contents, typeinfos)     return '\n",
            " 'decoder.instance(game_details_typeid) \\n',\n",
            " 'Decodes and return the replay init data from the contents byte '\n",
            " 'string.<CODESPLIT>  def decode_replay_initdata(contents):     decoder = '\n",
            " 'BitPackedDecoder(contents, typeinfos)     return '\n",
            " 'decoder.instance(replay_initdata_typeid) \\n',\n",
            " 'Decodes and yields each attribute from the contents byte string.<CODESPLIT>  '\n",
            " 'def decode_replay_attributes_events(contents):     buffer = '\n",
            " \"BitPackedBuffer(contents, 'little')     attributes = {}     if (not \"\n",
            " \"buffer.done()):         attributes['source'] = buffer.read_bits(8)         \"\n",
            " \"attributes['mapNamespace'] = buffer.read_bits(32)         count = \"\n",
            " \"buffer.read_bits(32)         attributes['scopes'] = {}         while (not \"\n",
            " \"buffer.done()):             value = {}             value['namespace'] = \"\n",
            " \"buffer.read_bits(32)             value['attrid'] = attrid = \"\n",
            " 'buffer.read_bits(32)             scope = buffer.read_bits(8)             '\n",
            " \"value['value'] = buffer.read_aligned_bytes(4)[::(- \"\n",
            " \"1)].strip('\\\\x00')             if (not (scope in \"\n",
            " \"attributes['scopes'])):                 attributes['scopes'][scope] = \"\n",
            " '{}             if (not (attrid in '\n",
            " \"attributes['scopes'][scope])):                 \"\n",
            " \"attributes['scopes'][scope][attrid] = []             \"\n",
            " \"attributes['scopes'][scope][attrid].append(value)     return attributes \"]\n"
          ],
          "name": "stdout"
        }
      ]
    },
    {
      "cell_type": "markdown",
      "metadata": {
        "id": "9k7N_IOZxqJh",
        "colab_type": "text"
      },
      "source": [
        "В принципе, получилось то, что нужно, поэтому воспользуемся этой функцией для получения данных positive класса:"
      ]
    },
    {
      "cell_type": "code",
      "metadata": {
        "id": "idyCrJAgdyK2",
        "colab_type": "code",
        "colab": {}
      },
      "source": [
        "def create_positive_dataset(mode):\n",
        "  \"\"\"Using .txt files, provided in Py150 dataset, create file with lines of \n",
        "  format docstring<CODESPLIT>function from all specified source code.\"\"\"\n",
        "  if mode not in os.listdir():\n",
        "    !mkdir \"{mode}\"\n",
        "  !rm -rf \"{mode}\"/positive.txt\n",
        "  if mode == 'train':\n",
        "    infile = \"py150/python100k_train.txt\"\n",
        "  else:\n",
        "    infile = \"py150/python50k_eval.txt\"\n",
        "  with open(infile, encoding='utf-8') as f:\n",
        "    for filename in f:\n",
        "      try:\n",
        "        process_file(os.path.join('py150', filename.strip()), f'{mode}/positive.txt', 'a')\n",
        "      except:\n",
        "        pass"
      ],
      "execution_count": 6,
      "outputs": []
    },
    {
      "cell_type": "code",
      "metadata": {
        "id": "X6uKae5LmwfR",
        "colab_type": "code",
        "colab": {}
      },
      "source": [
        "create_positive_dataset('train')\n",
        "create_positive_dataset('test')"
      ],
      "execution_count": null,
      "outputs": []
    },
    {
      "cell_type": "markdown",
      "metadata": {
        "id": "GhCtchIWnoFD",
        "colab_type": "text"
      },
      "source": [
        "Во время построения AST возникло много исключений вида `SyntaxError` и `UnicodeDecodeError`, так что, возможно, я что-то делаю не так. Посмотрим, сколько у нас получилось примеров для train и test и подумаем, насколько это существенная проблема на данном этапе:"
      ]
    },
    {
      "cell_type": "code",
      "metadata": {
        "id": "WcEuCcztdweu",
        "colab_type": "code",
        "colab": {
          "base_uri": "https://localhost:8080/",
          "height": 51
        },
        "outputId": "596ae73c-3320-493b-bc55-48eb99576fed"
      },
      "source": [
        "ds_len = {}\n",
        "for mode in ['train', 'test']:\n",
        "  with open(f\"{mode}/positive.txt\") as f:\n",
        "    for i, l in enumerate(f):\n",
        "      pass\n",
        "  ds_len[mode] = i + 1\n",
        "  print(f\"Positive {mode} examples:\", i + 1)"
      ],
      "execution_count": 8,
      "outputs": [
        {
          "output_type": "stream",
          "text": [
            "Positive train examples: 163472\n",
            "Positive test examples: 80122\n"
          ],
          "name": "stdout"
        }
      ]
    },
    {
      "cell_type": "markdown",
      "metadata": {
        "id": "Bf0JRrdOoPDb",
        "colab_type": "text"
      },
      "source": [
        "Будем считать, что этого достаточно. Как вариант для исправления этой проблемы, стоит посмотреть на файлы, выбрасывающие эти исключения, а еще - на файл из распарсенного варианта Py150, парсящий код.\n",
        "\n",
        "Итак, на настоящий момент у нас есть данные positive класса. Следуя подходу из статьи [CuBERT](https://arxiv.org/pdf/2001.00059.pdf), для получения negative класса сделаем permutation всех строчек. "
      ]
    },
    {
      "cell_type": "code",
      "metadata": {
        "id": "_J_3_DABogIE",
        "colab_type": "code",
        "colab": {}
      },
      "source": [
        "import numpy as np\n",
        "\n",
        "\n",
        "def create_negative_dataset(mode):\n",
        "  \"\"\"Randomly shuffle docstrings & functions from positive examples.\"\"\"\n",
        "  !rm -rf \"{mode}\"/negative.txt\n",
        "  \n",
        "  index = np.random.permutation(ds_len[mode])\n",
        "\n",
        "  with open(f'{mode}/positive.txt') as infile:\n",
        "    lines = [line.rstrip('\\n') for line in infile]\n",
        "  with open(f'{mode}/negative.txt', 'w') as outfile:\n",
        "    for i, j in enumerate(index):\n",
        "      outfile.write(f'{lines[i].split(\"<CODESPLIT>\")[0]}<CODESPLIT>{lines[j].split(\"<CODESPLIT>\")[1]}\\n')"
      ],
      "execution_count": 9,
      "outputs": []
    },
    {
      "cell_type": "code",
      "metadata": {
        "id": "JS9vr56wwpqV",
        "colab_type": "code",
        "colab": {}
      },
      "source": [
        "create_negative_dataset('train')\n",
        "create_negative_dataset('test')"
      ],
      "execution_count": 10,
      "outputs": []
    },
    {
      "cell_type": "markdown",
      "metadata": {
        "id": "6L9wa15yx1XQ",
        "colab_type": "text"
      },
      "source": [
        "Опять же, сохраним архивы из train и test на гугл диск, чтобы не запускать это заново каждый раз."
      ]
    },
    {
      "cell_type": "code",
      "metadata": {
        "id": "McHKVZWQw7md",
        "colab_type": "code",
        "colab": {
          "base_uri": "https://localhost:8080/",
          "height": 119
        },
        "outputId": "05cf3662-065e-4f0e-babd-12c2d39c52a8"
      },
      "source": [
        "!tar -zcvf \"gdrive/My Drive/train.tar.gz\" train\n",
        "!tar -zcvf \"gdrive/My Drive/test.tar.gz\" test"
      ],
      "execution_count": 11,
      "outputs": [
        {
          "output_type": "stream",
          "text": [
            "train/\n",
            "train/negative.txt\n",
            "train/positive.txt\n",
            "test/\n",
            "test/negative.txt\n",
            "test/positive.txt\n"
          ],
          "name": "stdout"
        }
      ]
    },
    {
      "cell_type": "code",
      "metadata": {
        "id": "80hMY3ev_Cbp",
        "colab_type": "code",
        "colab": {
          "base_uri": "https://localhost:8080/",
          "height": 119
        },
        "outputId": "59483226-3998-4781-912e-cf455e263a8c"
      },
      "source": [
        "!tar -xvzf \"gdrive/My Drive/train.tar.gz\" -C .\n",
        "!tar -xvzf \"gdrive/My Drive/test.tar.gz\" -C ."
      ],
      "execution_count": 8,
      "outputs": [
        {
          "output_type": "stream",
          "text": [
            "train/\n",
            "train/negative.txt\n",
            "train/positive.txt\n",
            "test/\n",
            "test/negative.txt\n",
            "test/positive.txt\n"
          ],
          "name": "stdout"
        }
      ]
    },
    {
      "cell_type": "markdown",
      "metadata": {
        "id": "oQZ5Rz1Qx_BQ",
        "colab_type": "text"
      },
      "source": [
        "И посмотрим на пример:"
      ]
    },
    {
      "cell_type": "code",
      "metadata": {
        "id": "WWcTDVB3xGGm",
        "colab_type": "code",
        "colab": {
          "base_uri": "https://localhost:8080/",
          "height": 105
        },
        "outputId": "3591e6fe-a954-4d7c-ef5d-a20ce571f650"
      },
      "source": [
        "with open(\"train/positive.txt\") as pos:\n",
        "  print(pos.readline())\n",
        "with open(\"train/negative.txt\") as neg:\n",
        "  print(neg.readline())"
      ],
      "execution_count": 9,
      "outputs": [
        {
          "output_type": "stream",
          "text": [
            "Add news items to the home page.<CODESPLIT>  @user_passes_test((lambda u: u.is_staff)) def add(request):     if (request.method == 'POST'):         form = AddItemForm(data=request.POST)         if form.is_valid():             item = form.save(commit=False)             item.reporter = request.user             try:                 with transaction.atomic():                     item.save()             except twitter.TwitterError as e:                 messages.error(request, ('Twitter error: \"%s\" Please try again.' % e.message[0]['message']))             else:                 messages.info(request, 'Your news item has been published!')                 return redirect('home')     else:         form = AddItemForm()     return render(request, 'form.html', {'title': 'Add Item', 'form': form, 'description': 'Enter the details for the news item below.', 'action': 'Add'})         <CODESPLIT>  def __init__(self, timeout=0):     self._hostname = ''     self._urls = []     self.connection = None \n",
            "\n",
            "Add news items to the home page.<CODESPLIT>  def activate_previous(self, cli):     self.activate_next(cli, _previous=True) \n",
            "\n"
          ],
          "name": "stdout"
        }
      ]
    },
    {
      "cell_type": "markdown",
      "metadata": {
        "id": "bOdeEH1ZyBZW",
        "colab_type": "text"
      },
      "source": [
        "Действительно, docstring-и одинаковые, а сам код функций отличается. Здесь можно заметить еще один баг - в первой строчке docstring один, а функции две :( "
      ]
    },
    {
      "cell_type": "markdown",
      "metadata": {
        "id": "m8rrkWXOAwjY",
        "colab_type": "text"
      },
      "source": [
        "## Приводим датасет к нужному формату\n",
        "\n",
        "Теперь приведем это к виду, нужному для обучения модели, опираясь на [данный](https://huggingface.co/transformers/custom_datasets.html) туториал от HuggingFace.\n",
        "\n",
        "Для начала, создадим отдельные списки с docstring-ами и самим кодом функций, а также лейблы к ним."
      ]
    },
    {
      "cell_type": "code",
      "metadata": {
        "id": "vxFVTaJ-xFuc",
        "colab_type": "code",
        "colab": {}
      },
      "source": [
        "from sklearn.model_selection import train_test_split\n",
        "\n",
        "\n",
        "def read_data(split_dir):\n",
        "    \"\"\"Save data from .txt files to docstrings and functions lists\n",
        "    separately and label them to use in \"sequence classification\"-like \n",
        "    downstream task.\"\"\"\n",
        "    docs = []\n",
        "    funcs = []\n",
        "    labels = []\n",
        "    for data_file in [\"positive.txt\", \"negative.txt\"]:\n",
        "      with open(f\"{split_dir}/{data_file}\") as f:\n",
        "        for line in f:\n",
        "          doc, func = line.strip().split(\"<CODESPLIT>\")[:2]\n",
        "          docs.append(doc)\n",
        "          funcs.append(func)\n",
        "          labels.append(0 if data_file is \"negative.txt\" else 1)\n",
        "    return docs, funcs, labels\n",
        "\n",
        "\n",
        "train_docs, train_funcs, train_labels = read_data('train')\n",
        "test_docs, test_funcs, test_labels = read_data('test')"
      ],
      "execution_count": 11,
      "outputs": []
    },
    {
      "cell_type": "markdown",
      "metadata": {
        "id": "g0-bhAz9BIvL",
        "colab_type": "text"
      },
      "source": [
        "Затем импортируем необходимые для обучения и работы с данными библиотеками и загрузим предобученную модель. В данном случае нам не нужно заниматься Mask Prediction, поэтому мы можем выбрать `codebert-base`, а не `codebert-base-mlm`.\n",
        "\n",
        "Также я решила использовать `RobertaForSequenceClassification` вместо `RobertaModel`, потому что там, кроме основной модели, уже есть классификатор."
      ]
    },
    {
      "cell_type": "code",
      "metadata": {
        "id": "EOO2ZouwtARt",
        "colab_type": "code",
        "colab": {
          "base_uri": "https://localhost:8080/",
          "height": 1000,
          "referenced_widgets": [
            "044abdcddebf4a0ca7040589b5d91a2f",
            "85d6f98dd31b46e98c34c8474f4b5da5",
            "9b4eb499c9504ee698725ec1c33c21d1",
            "22f4a22ee48e4e969549d4a1b462ec16",
            "c404f0a2f4714f398426a96f8d4650c2",
            "b159746bd4a343128e2001c2e08ccd4a",
            "e1c005e51ff9496591fc9363b87fcb44",
            "a8257a9b36e6439cbe2d6f59b548c8d4",
            "32a9bf2c449145e9a731cd33b2df63ab",
            "3b9ff3a5f59249528f533996637ab8ef",
            "061cde283c4d422fb69662896483be0e",
            "58fc75a7090840958753d1802900a810",
            "5e832479b2a2442e8b6cb86b3925811c",
            "cae7be5a9c794b21b6089038445b0bad",
            "14ceb31613494423851f700b6e8edef8",
            "b5fb37c812c84764a61872f9faa67b15",
            "758c88789c854758be28f8608f887109",
            "a35b637baa94492181b25c668cb00142",
            "55f54ed19d2f4e0fbe83ca463d481162",
            "43a345819199484f85af1129da889e2d",
            "737d75ddd60848c289e009725b8242d3",
            "c113c68804b34da0893d2120b5fc13cc",
            "6b7e33f5a1014007accc9e0bd93d9cb8",
            "08401a2a57f240ba9f355dcfb58cddff",
            "e5be8090623c48759c70fa68813a958f",
            "cac95fb1e6a4409cb335694b8dfccdfd",
            "744efda85a3043858b63505bc805b7ba",
            "b38d6e05d2524cf5bdd519b5b0fc2ad4",
            "220ad6e12bd441bd8be0a8866ebb2a99",
            "450a0b7f057f4096a179107b3fc81947",
            "08651caa352649b7be10cbb7b2c26883",
            "b122d6fec2d5495eb735101187520418",
            "5bc54dab4d9b4984829cb0c4d2233867",
            "c1158644d1c74b9e83b0a6030d6d2a95",
            "16640171c7804c23933d48c8381c68cc",
            "015de02fbd554ee9a6c77fe781edd1c6",
            "e0391323a27d45ba970af1ff320f6bd7",
            "014f3767e08049c9a3103c742f1f339c",
            "1d0d07e0e3c840ca9331be8878f742c2",
            "f664f5f101bb455c82a608b921ea6f42",
            "faf71c2f9ce04d229245cb0b39f29cb5",
            "ad1b5137e684488eba3768ed38f17f70",
            "a7bffb9cde2a4eb385f5ed29f683799b",
            "7256b012327b4014b092e2731df47ce5",
            "70369765a808498ca4e452b3896f635c",
            "8a04be9fef5b40eca7b8b166fd2b2045",
            "4cee8dfd7db94f9a893889104ff65648",
            "e21278d01f3848e8803a23ffa196ed6d"
          ]
        },
        "outputId": "05897de1-decb-4073-a755-993402d03795"
      },
      "source": [
        "import torch\n",
        "from torch.utils.data import DataLoader, RandomSampler\n",
        "from transformers import RobertaTokenizer, RobertaForSequenceClassification, RobertaConfig, RobertaModel, AdamW\n",
        "\n",
        "device = torch.device(\"cuda\" if torch.cuda.is_available() else \"cpu\")\n",
        "tokenizer = RobertaTokenizer.from_pretrained(\"microsoft/codebert-base\")\n",
        "config = RobertaConfig.from_pretrained(\"microsoft/codebert-base\", output_hidden_states=True)\n",
        "model = RobertaForSequenceClassification.from_pretrained(\"microsoft/codebert-base\", config=config)\n",
        "model.to(device)\n",
        "model.train()"
      ],
      "execution_count": 12,
      "outputs": [
        {
          "output_type": "display_data",
          "data": {
            "application/vnd.jupyter.widget-view+json": {
              "model_id": "044abdcddebf4a0ca7040589b5d91a2f",
              "version_minor": 0,
              "version_major": 2
            },
            "text/plain": [
              "HBox(children=(FloatProgress(value=0.0, description='Downloading', max=898822.0, style=ProgressStyle(descripti…"
            ]
          },
          "metadata": {
            "tags": []
          }
        },
        {
          "output_type": "stream",
          "text": [
            "\n"
          ],
          "name": "stdout"
        },
        {
          "output_type": "display_data",
          "data": {
            "application/vnd.jupyter.widget-view+json": {
              "model_id": "32a9bf2c449145e9a731cd33b2df63ab",
              "version_minor": 0,
              "version_major": 2
            },
            "text/plain": [
              "HBox(children=(FloatProgress(value=0.0, description='Downloading', max=456318.0, style=ProgressStyle(descripti…"
            ]
          },
          "metadata": {
            "tags": []
          }
        },
        {
          "output_type": "stream",
          "text": [
            "\n"
          ],
          "name": "stdout"
        },
        {
          "output_type": "display_data",
          "data": {
            "application/vnd.jupyter.widget-view+json": {
              "model_id": "758c88789c854758be28f8608f887109",
              "version_minor": 0,
              "version_major": 2
            },
            "text/plain": [
              "HBox(children=(FloatProgress(value=0.0, description='Downloading', max=150.0, style=ProgressStyle(description_…"
            ]
          },
          "metadata": {
            "tags": []
          }
        },
        {
          "output_type": "stream",
          "text": [
            "\n"
          ],
          "name": "stdout"
        },
        {
          "output_type": "display_data",
          "data": {
            "application/vnd.jupyter.widget-view+json": {
              "model_id": "e5be8090623c48759c70fa68813a958f",
              "version_minor": 0,
              "version_major": 2
            },
            "text/plain": [
              "HBox(children=(FloatProgress(value=0.0, description='Downloading', max=25.0, style=ProgressStyle(description_w…"
            ]
          },
          "metadata": {
            "tags": []
          }
        },
        {
          "output_type": "stream",
          "text": [
            "\n"
          ],
          "name": "stdout"
        },
        {
          "output_type": "display_data",
          "data": {
            "application/vnd.jupyter.widget-view+json": {
              "model_id": "5bc54dab4d9b4984829cb0c4d2233867",
              "version_minor": 0,
              "version_major": 2
            },
            "text/plain": [
              "HBox(children=(FloatProgress(value=0.0, description='Downloading', max=498.0, style=ProgressStyle(description_…"
            ]
          },
          "metadata": {
            "tags": []
          }
        },
        {
          "output_type": "stream",
          "text": [
            "\n"
          ],
          "name": "stdout"
        },
        {
          "output_type": "display_data",
          "data": {
            "application/vnd.jupyter.widget-view+json": {
              "model_id": "faf71c2f9ce04d229245cb0b39f29cb5",
              "version_minor": 0,
              "version_major": 2
            },
            "text/plain": [
              "HBox(children=(FloatProgress(value=0.0, description='Downloading', max=498627950.0, style=ProgressStyle(descri…"
            ]
          },
          "metadata": {
            "tags": []
          }
        },
        {
          "output_type": "stream",
          "text": [
            "\n"
          ],
          "name": "stdout"
        },
        {
          "output_type": "stream",
          "text": [
            "Some weights of RobertaForSequenceClassification were not initialized from the model checkpoint at microsoft/codebert-base and are newly initialized: ['classifier.out_proj.bias', 'classifier.out_proj.weight', 'classifier.dense.weight', 'classifier.dense.bias']\n",
            "You should probably TRAIN this model on a down-stream task to be able to use it for predictions and inference.\n"
          ],
          "name": "stderr"
        },
        {
          "output_type": "execute_result",
          "data": {
            "text/plain": [
              "RobertaForSequenceClassification(\n",
              "  (roberta): RobertaModel(\n",
              "    (embeddings): RobertaEmbeddings(\n",
              "      (word_embeddings): Embedding(50265, 768, padding_idx=1)\n",
              "      (position_embeddings): Embedding(514, 768, padding_idx=1)\n",
              "      (token_type_embeddings): Embedding(1, 768)\n",
              "      (LayerNorm): LayerNorm((768,), eps=1e-05, elementwise_affine=True)\n",
              "      (dropout): Dropout(p=0.1, inplace=False)\n",
              "    )\n",
              "    (encoder): BertEncoder(\n",
              "      (layer): ModuleList(\n",
              "        (0): BertLayer(\n",
              "          (attention): BertAttention(\n",
              "            (self): BertSelfAttention(\n",
              "              (query): Linear(in_features=768, out_features=768, bias=True)\n",
              "              (key): Linear(in_features=768, out_features=768, bias=True)\n",
              "              (value): Linear(in_features=768, out_features=768, bias=True)\n",
              "              (dropout): Dropout(p=0.1, inplace=False)\n",
              "            )\n",
              "            (output): BertSelfOutput(\n",
              "              (dense): Linear(in_features=768, out_features=768, bias=True)\n",
              "              (LayerNorm): LayerNorm((768,), eps=1e-05, elementwise_affine=True)\n",
              "              (dropout): Dropout(p=0.1, inplace=False)\n",
              "            )\n",
              "          )\n",
              "          (intermediate): BertIntermediate(\n",
              "            (dense): Linear(in_features=768, out_features=3072, bias=True)\n",
              "          )\n",
              "          (output): BertOutput(\n",
              "            (dense): Linear(in_features=3072, out_features=768, bias=True)\n",
              "            (LayerNorm): LayerNorm((768,), eps=1e-05, elementwise_affine=True)\n",
              "            (dropout): Dropout(p=0.1, inplace=False)\n",
              "          )\n",
              "        )\n",
              "        (1): BertLayer(\n",
              "          (attention): BertAttention(\n",
              "            (self): BertSelfAttention(\n",
              "              (query): Linear(in_features=768, out_features=768, bias=True)\n",
              "              (key): Linear(in_features=768, out_features=768, bias=True)\n",
              "              (value): Linear(in_features=768, out_features=768, bias=True)\n",
              "              (dropout): Dropout(p=0.1, inplace=False)\n",
              "            )\n",
              "            (output): BertSelfOutput(\n",
              "              (dense): Linear(in_features=768, out_features=768, bias=True)\n",
              "              (LayerNorm): LayerNorm((768,), eps=1e-05, elementwise_affine=True)\n",
              "              (dropout): Dropout(p=0.1, inplace=False)\n",
              "            )\n",
              "          )\n",
              "          (intermediate): BertIntermediate(\n",
              "            (dense): Linear(in_features=768, out_features=3072, bias=True)\n",
              "          )\n",
              "          (output): BertOutput(\n",
              "            (dense): Linear(in_features=3072, out_features=768, bias=True)\n",
              "            (LayerNorm): LayerNorm((768,), eps=1e-05, elementwise_affine=True)\n",
              "            (dropout): Dropout(p=0.1, inplace=False)\n",
              "          )\n",
              "        )\n",
              "        (2): BertLayer(\n",
              "          (attention): BertAttention(\n",
              "            (self): BertSelfAttention(\n",
              "              (query): Linear(in_features=768, out_features=768, bias=True)\n",
              "              (key): Linear(in_features=768, out_features=768, bias=True)\n",
              "              (value): Linear(in_features=768, out_features=768, bias=True)\n",
              "              (dropout): Dropout(p=0.1, inplace=False)\n",
              "            )\n",
              "            (output): BertSelfOutput(\n",
              "              (dense): Linear(in_features=768, out_features=768, bias=True)\n",
              "              (LayerNorm): LayerNorm((768,), eps=1e-05, elementwise_affine=True)\n",
              "              (dropout): Dropout(p=0.1, inplace=False)\n",
              "            )\n",
              "          )\n",
              "          (intermediate): BertIntermediate(\n",
              "            (dense): Linear(in_features=768, out_features=3072, bias=True)\n",
              "          )\n",
              "          (output): BertOutput(\n",
              "            (dense): Linear(in_features=3072, out_features=768, bias=True)\n",
              "            (LayerNorm): LayerNorm((768,), eps=1e-05, elementwise_affine=True)\n",
              "            (dropout): Dropout(p=0.1, inplace=False)\n",
              "          )\n",
              "        )\n",
              "        (3): BertLayer(\n",
              "          (attention): BertAttention(\n",
              "            (self): BertSelfAttention(\n",
              "              (query): Linear(in_features=768, out_features=768, bias=True)\n",
              "              (key): Linear(in_features=768, out_features=768, bias=True)\n",
              "              (value): Linear(in_features=768, out_features=768, bias=True)\n",
              "              (dropout): Dropout(p=0.1, inplace=False)\n",
              "            )\n",
              "            (output): BertSelfOutput(\n",
              "              (dense): Linear(in_features=768, out_features=768, bias=True)\n",
              "              (LayerNorm): LayerNorm((768,), eps=1e-05, elementwise_affine=True)\n",
              "              (dropout): Dropout(p=0.1, inplace=False)\n",
              "            )\n",
              "          )\n",
              "          (intermediate): BertIntermediate(\n",
              "            (dense): Linear(in_features=768, out_features=3072, bias=True)\n",
              "          )\n",
              "          (output): BertOutput(\n",
              "            (dense): Linear(in_features=3072, out_features=768, bias=True)\n",
              "            (LayerNorm): LayerNorm((768,), eps=1e-05, elementwise_affine=True)\n",
              "            (dropout): Dropout(p=0.1, inplace=False)\n",
              "          )\n",
              "        )\n",
              "        (4): BertLayer(\n",
              "          (attention): BertAttention(\n",
              "            (self): BertSelfAttention(\n",
              "              (query): Linear(in_features=768, out_features=768, bias=True)\n",
              "              (key): Linear(in_features=768, out_features=768, bias=True)\n",
              "              (value): Linear(in_features=768, out_features=768, bias=True)\n",
              "              (dropout): Dropout(p=0.1, inplace=False)\n",
              "            )\n",
              "            (output): BertSelfOutput(\n",
              "              (dense): Linear(in_features=768, out_features=768, bias=True)\n",
              "              (LayerNorm): LayerNorm((768,), eps=1e-05, elementwise_affine=True)\n",
              "              (dropout): Dropout(p=0.1, inplace=False)\n",
              "            )\n",
              "          )\n",
              "          (intermediate): BertIntermediate(\n",
              "            (dense): Linear(in_features=768, out_features=3072, bias=True)\n",
              "          )\n",
              "          (output): BertOutput(\n",
              "            (dense): Linear(in_features=3072, out_features=768, bias=True)\n",
              "            (LayerNorm): LayerNorm((768,), eps=1e-05, elementwise_affine=True)\n",
              "            (dropout): Dropout(p=0.1, inplace=False)\n",
              "          )\n",
              "        )\n",
              "        (5): BertLayer(\n",
              "          (attention): BertAttention(\n",
              "            (self): BertSelfAttention(\n",
              "              (query): Linear(in_features=768, out_features=768, bias=True)\n",
              "              (key): Linear(in_features=768, out_features=768, bias=True)\n",
              "              (value): Linear(in_features=768, out_features=768, bias=True)\n",
              "              (dropout): Dropout(p=0.1, inplace=False)\n",
              "            )\n",
              "            (output): BertSelfOutput(\n",
              "              (dense): Linear(in_features=768, out_features=768, bias=True)\n",
              "              (LayerNorm): LayerNorm((768,), eps=1e-05, elementwise_affine=True)\n",
              "              (dropout): Dropout(p=0.1, inplace=False)\n",
              "            )\n",
              "          )\n",
              "          (intermediate): BertIntermediate(\n",
              "            (dense): Linear(in_features=768, out_features=3072, bias=True)\n",
              "          )\n",
              "          (output): BertOutput(\n",
              "            (dense): Linear(in_features=3072, out_features=768, bias=True)\n",
              "            (LayerNorm): LayerNorm((768,), eps=1e-05, elementwise_affine=True)\n",
              "            (dropout): Dropout(p=0.1, inplace=False)\n",
              "          )\n",
              "        )\n",
              "        (6): BertLayer(\n",
              "          (attention): BertAttention(\n",
              "            (self): BertSelfAttention(\n",
              "              (query): Linear(in_features=768, out_features=768, bias=True)\n",
              "              (key): Linear(in_features=768, out_features=768, bias=True)\n",
              "              (value): Linear(in_features=768, out_features=768, bias=True)\n",
              "              (dropout): Dropout(p=0.1, inplace=False)\n",
              "            )\n",
              "            (output): BertSelfOutput(\n",
              "              (dense): Linear(in_features=768, out_features=768, bias=True)\n",
              "              (LayerNorm): LayerNorm((768,), eps=1e-05, elementwise_affine=True)\n",
              "              (dropout): Dropout(p=0.1, inplace=False)\n",
              "            )\n",
              "          )\n",
              "          (intermediate): BertIntermediate(\n",
              "            (dense): Linear(in_features=768, out_features=3072, bias=True)\n",
              "          )\n",
              "          (output): BertOutput(\n",
              "            (dense): Linear(in_features=3072, out_features=768, bias=True)\n",
              "            (LayerNorm): LayerNorm((768,), eps=1e-05, elementwise_affine=True)\n",
              "            (dropout): Dropout(p=0.1, inplace=False)\n",
              "          )\n",
              "        )\n",
              "        (7): BertLayer(\n",
              "          (attention): BertAttention(\n",
              "            (self): BertSelfAttention(\n",
              "              (query): Linear(in_features=768, out_features=768, bias=True)\n",
              "              (key): Linear(in_features=768, out_features=768, bias=True)\n",
              "              (value): Linear(in_features=768, out_features=768, bias=True)\n",
              "              (dropout): Dropout(p=0.1, inplace=False)\n",
              "            )\n",
              "            (output): BertSelfOutput(\n",
              "              (dense): Linear(in_features=768, out_features=768, bias=True)\n",
              "              (LayerNorm): LayerNorm((768,), eps=1e-05, elementwise_affine=True)\n",
              "              (dropout): Dropout(p=0.1, inplace=False)\n",
              "            )\n",
              "          )\n",
              "          (intermediate): BertIntermediate(\n",
              "            (dense): Linear(in_features=768, out_features=3072, bias=True)\n",
              "          )\n",
              "          (output): BertOutput(\n",
              "            (dense): Linear(in_features=3072, out_features=768, bias=True)\n",
              "            (LayerNorm): LayerNorm((768,), eps=1e-05, elementwise_affine=True)\n",
              "            (dropout): Dropout(p=0.1, inplace=False)\n",
              "          )\n",
              "        )\n",
              "        (8): BertLayer(\n",
              "          (attention): BertAttention(\n",
              "            (self): BertSelfAttention(\n",
              "              (query): Linear(in_features=768, out_features=768, bias=True)\n",
              "              (key): Linear(in_features=768, out_features=768, bias=True)\n",
              "              (value): Linear(in_features=768, out_features=768, bias=True)\n",
              "              (dropout): Dropout(p=0.1, inplace=False)\n",
              "            )\n",
              "            (output): BertSelfOutput(\n",
              "              (dense): Linear(in_features=768, out_features=768, bias=True)\n",
              "              (LayerNorm): LayerNorm((768,), eps=1e-05, elementwise_affine=True)\n",
              "              (dropout): Dropout(p=0.1, inplace=False)\n",
              "            )\n",
              "          )\n",
              "          (intermediate): BertIntermediate(\n",
              "            (dense): Linear(in_features=768, out_features=3072, bias=True)\n",
              "          )\n",
              "          (output): BertOutput(\n",
              "            (dense): Linear(in_features=3072, out_features=768, bias=True)\n",
              "            (LayerNorm): LayerNorm((768,), eps=1e-05, elementwise_affine=True)\n",
              "            (dropout): Dropout(p=0.1, inplace=False)\n",
              "          )\n",
              "        )\n",
              "        (9): BertLayer(\n",
              "          (attention): BertAttention(\n",
              "            (self): BertSelfAttention(\n",
              "              (query): Linear(in_features=768, out_features=768, bias=True)\n",
              "              (key): Linear(in_features=768, out_features=768, bias=True)\n",
              "              (value): Linear(in_features=768, out_features=768, bias=True)\n",
              "              (dropout): Dropout(p=0.1, inplace=False)\n",
              "            )\n",
              "            (output): BertSelfOutput(\n",
              "              (dense): Linear(in_features=768, out_features=768, bias=True)\n",
              "              (LayerNorm): LayerNorm((768,), eps=1e-05, elementwise_affine=True)\n",
              "              (dropout): Dropout(p=0.1, inplace=False)\n",
              "            )\n",
              "          )\n",
              "          (intermediate): BertIntermediate(\n",
              "            (dense): Linear(in_features=768, out_features=3072, bias=True)\n",
              "          )\n",
              "          (output): BertOutput(\n",
              "            (dense): Linear(in_features=3072, out_features=768, bias=True)\n",
              "            (LayerNorm): LayerNorm((768,), eps=1e-05, elementwise_affine=True)\n",
              "            (dropout): Dropout(p=0.1, inplace=False)\n",
              "          )\n",
              "        )\n",
              "        (10): BertLayer(\n",
              "          (attention): BertAttention(\n",
              "            (self): BertSelfAttention(\n",
              "              (query): Linear(in_features=768, out_features=768, bias=True)\n",
              "              (key): Linear(in_features=768, out_features=768, bias=True)\n",
              "              (value): Linear(in_features=768, out_features=768, bias=True)\n",
              "              (dropout): Dropout(p=0.1, inplace=False)\n",
              "            )\n",
              "            (output): BertSelfOutput(\n",
              "              (dense): Linear(in_features=768, out_features=768, bias=True)\n",
              "              (LayerNorm): LayerNorm((768,), eps=1e-05, elementwise_affine=True)\n",
              "              (dropout): Dropout(p=0.1, inplace=False)\n",
              "            )\n",
              "          )\n",
              "          (intermediate): BertIntermediate(\n",
              "            (dense): Linear(in_features=768, out_features=3072, bias=True)\n",
              "          )\n",
              "          (output): BertOutput(\n",
              "            (dense): Linear(in_features=3072, out_features=768, bias=True)\n",
              "            (LayerNorm): LayerNorm((768,), eps=1e-05, elementwise_affine=True)\n",
              "            (dropout): Dropout(p=0.1, inplace=False)\n",
              "          )\n",
              "        )\n",
              "        (11): BertLayer(\n",
              "          (attention): BertAttention(\n",
              "            (self): BertSelfAttention(\n",
              "              (query): Linear(in_features=768, out_features=768, bias=True)\n",
              "              (key): Linear(in_features=768, out_features=768, bias=True)\n",
              "              (value): Linear(in_features=768, out_features=768, bias=True)\n",
              "              (dropout): Dropout(p=0.1, inplace=False)\n",
              "            )\n",
              "            (output): BertSelfOutput(\n",
              "              (dense): Linear(in_features=768, out_features=768, bias=True)\n",
              "              (LayerNorm): LayerNorm((768,), eps=1e-05, elementwise_affine=True)\n",
              "              (dropout): Dropout(p=0.1, inplace=False)\n",
              "            )\n",
              "          )\n",
              "          (intermediate): BertIntermediate(\n",
              "            (dense): Linear(in_features=768, out_features=3072, bias=True)\n",
              "          )\n",
              "          (output): BertOutput(\n",
              "            (dense): Linear(in_features=3072, out_features=768, bias=True)\n",
              "            (LayerNorm): LayerNorm((768,), eps=1e-05, elementwise_affine=True)\n",
              "            (dropout): Dropout(p=0.1, inplace=False)\n",
              "          )\n",
              "        )\n",
              "      )\n",
              "    )\n",
              "    (pooler): BertPooler(\n",
              "      (dense): Linear(in_features=768, out_features=768, bias=True)\n",
              "      (activation): Tanh()\n",
              "    )\n",
              "  )\n",
              "  (classifier): RobertaClassificationHead(\n",
              "    (dense): Linear(in_features=768, out_features=768, bias=True)\n",
              "    (dropout): Dropout(p=0.1, inplace=False)\n",
              "    (out_proj): Linear(in_features=768, out_features=2, bias=True)\n",
              "  )\n",
              ")"
            ]
          },
          "metadata": {
            "tags": []
          },
          "execution_count": 12
        }
      ]
    },
    {
      "cell_type": "markdown",
      "metadata": {
        "id": "iyg8cnp9Gnhu",
        "colab_type": "text"
      },
      "source": [
        "Можно посмотреть на полную архитектуру сети, а еще обратить внимание на два момента:\n",
        "\n",
        "* В `codebert-base` есть веса только для базовой модели, из-за чего появляется предупреждение:\n",
        "\n",
        "\n",
        "> Some weights of RobertaForSequenceClassification were not initialized from the model checkpoint at microsoft/codebert-base and are newly initialized: ['classifier.out_proj.bias', 'classifier.out_proj.weight', 'classifier.dense.weight', 'classifier.dense.bias']\n",
        "You should probably TRAIN this model on a down-stream task to be able to use it for predictions and inference.\n",
        "\n",
        "\n",
        "Это не проблема, потому что мы как раз собираемся ОБУЧИТЬ модель.\n",
        "\n",
        "* Классификатор состоит из следующих слоев:\n",
        "\n",
        "```\n",
        "(classifier): RobertaClassificationHead(\n",
        "    (dense): Linear(in_features=768, out_features=768, bias=True)\n",
        "    (dropout): Dropout(p=0.1, inplace=False)\n",
        "    (out_proj): Linear(in_features=768, out_features=2, bias=True)\n",
        ")\n",
        "```\n",
        "\n",
        "На выходе данные имеют размерность 2, что как раз подходит для текущей задачи."
      ]
    },
    {
      "cell_type": "markdown",
      "metadata": {
        "id": "JLxl25fwBYCz",
        "colab_type": "text"
      },
      "source": [
        "Токенизируем наши данные. Как указано в [документации](https://huggingface.co/transformers/main_classes/tokenizer.html#transformers.PreTrainedTokenizer.__call__), в transformers 3.1.0 при применении tokenizer к данным сразу возвращается BatchEncoding."
      ]
    },
    {
      "cell_type": "code",
      "metadata": {
        "id": "K5SWBQnOC4Dn",
        "colab_type": "code",
        "colab": {}
      },
      "source": [
        "train_encodings = tokenizer(train_docs, train_funcs, truncation=True, padding=True)\n",
        "test_encodings = tokenizer(test_docs, test_funcs, truncation=True, padding=True)"
      ],
      "execution_count": 13,
      "outputs": []
    },
    {
      "cell_type": "markdown",
      "metadata": {
        "id": "rPUP9u-WB9Ia",
        "colab_type": "text"
      },
      "source": [
        "Затем напишем кастомный класс, наследующий от `torch.utils.data.Dataset`, чтобы пользоваться функционалом PyTorch для работы с датасетами. "
      ]
    },
    {
      "cell_type": "code",
      "metadata": {
        "id": "gBrFtRPBcqoA",
        "colab_type": "code",
        "colab": {}
      },
      "source": [
        "class py150Dataset(torch.utils.data.Dataset):\n",
        "    def __init__(self, encodings, labels):\n",
        "        self.encodings = encodings\n",
        "        self.labels = labels\n",
        "\n",
        "    def __getitem__(self, idx):\n",
        "        item = {key: torch.tensor(val[idx]) for key, val in self.encodings.items()}\n",
        "        item['labels'] = torch.tensor(self.labels[idx])\n",
        "        return item\n",
        "\n",
        "    def __len__(self):\n",
        "        return len(self.labels)\n",
        "\n",
        "train_dataset = py150Dataset(train_encodings, train_labels)\n",
        "test_dataset = py150Dataset(test_encodings, test_labels)"
      ],
      "execution_count": 14,
      "outputs": []
    },
    {
      "cell_type": "markdown",
      "metadata": {
        "id": "crNrHoCepcrt",
        "colab_type": "text"
      },
      "source": [
        "## Обучаем модель\n",
        "\n",
        "Перейдем к обучению. В статье [CodeBERT](https://arxiv.org/pdf/2002.08155.pdf) авторы используют следующую конфигурацию:\n",
        "\n",
        "```\n",
        "In the fine-turning step, we set the learning rate as 1e-5, the\n",
        "batch size as 64, the max sequence length as 200 and the\n",
        "max fine-tuning epoch as 8. We use Adam to update the\n",
        "parameters.\n",
        "```\n",
        "\n",
        "Попробуем сделать то же самое, кроме `batch size` *(потому что памяти в колабе не хватает)* и `max sequence length` *(я не совсем понимаю, где это менять)*.\n",
        "\n"
      ]
    },
    {
      "cell_type": "code",
      "metadata": {
        "id": "wHKM2sszdkMs",
        "colab_type": "code",
        "colab": {
          "base_uri": "https://localhost:8080/",
          "height": 416,
          "referenced_widgets": [
            "cc954ceb413643b0bcfa4cf5871c293b",
            "3a45041eb18b496db2aa15df88cbd347",
            "86497ca39b834ea6bf01ddc80a117540",
            "7fe5cf5fb505453a8be10d3f9cf7ea9c",
            "8d4a02deddce48f3ac513b842950501f",
            "ca51817ca879433aa68cf37a8895e8f3",
            "1cb29197b7e24df29c6c6c05bd93b74f",
            "dfdedacae93d451a8fe8ab55c13cfefd"
          ]
        },
        "outputId": "1b9e7c58-e173-4174-ee96-07d780d87616"
      },
      "source": [
        "import time\n",
        "from tqdm import tqdm_notebook as tqdm\n",
        "\n",
        "train_sampler = RandomSampler(train_dataset)\n",
        "# with bigger batch sizes I get cuda memory error =(\n",
        "train_loader = DataLoader(train_dataset, sampler=train_sampler, batch_size=1)\n",
        "\n",
        "optim = AdamW(model.parameters(), lr=1e-5)\n",
        "print(\"Number of batches:\", len(train_loader))\n",
        "model.train()\n",
        "for epoch in range(3):\n",
        "    if epoch != 0:\n",
        "      end = time.time()\n",
        "      print(\"Epoch took\", end-start, \"seconds\")\n",
        "    print(\"Epoch:\", epoch)\n",
        "    start = time.time()\n",
        "    for i, batch in tqdm(enumerate(train_loader)):\n",
        "        optim.zero_grad()\n",
        "        input_ids = batch['input_ids'].to(device)\n",
        "        attention_mask = batch['attention_mask'].to(device)\n",
        "        labels = batch['labels'].to(device)\n",
        "        outputs = model(input_ids, attention_mask=attention_mask, labels=labels)\n",
        "        loss = outputs[0]\n",
        "        loss.backward()\n",
        "        optim.step()"
      ],
      "execution_count": 15,
      "outputs": [
        {
          "output_type": "stream",
          "text": [
            "Number of batches: 326944\n",
            "Epoch: 0\n"
          ],
          "name": "stdout"
        },
        {
          "output_type": "stream",
          "text": [
            "/usr/local/lib/python3.6/dist-packages/ipykernel_launcher.py:17: TqdmDeprecationWarning: This function will be removed in tqdm==5.0.0\n",
            "Please use `tqdm.notebook.tqdm` instead of `tqdm.tqdm_notebook`\n"
          ],
          "name": "stderr"
        },
        {
          "output_type": "display_data",
          "data": {
            "application/vnd.jupyter.widget-view+json": {
              "model_id": "cc954ceb413643b0bcfa4cf5871c293b",
              "version_minor": 0,
              "version_major": 2
            },
            "text/plain": [
              "HBox(children=(FloatProgress(value=1.0, bar_style='info', max=1.0), HTML(value='')))"
            ]
          },
          "metadata": {
            "tags": []
          }
        },
        {
          "output_type": "error",
          "ename": "KeyboardInterrupt",
          "evalue": "ignored",
          "traceback": [
            "\u001b[0;31m---------------------------------------------------------------------------\u001b[0m",
            "\u001b[0;31mKeyboardInterrupt\u001b[0m                         Traceback (most recent call last)",
            "\u001b[0;32m<ipython-input-15-e4c559e5c7c7>\u001b[0m in \u001b[0;36m<module>\u001b[0;34m()\u001b[0m\n\u001b[1;32m     23\u001b[0m         \u001b[0mloss\u001b[0m \u001b[0;34m=\u001b[0m \u001b[0moutputs\u001b[0m\u001b[0;34m[\u001b[0m\u001b[0;36m0\u001b[0m\u001b[0;34m]\u001b[0m\u001b[0;34m\u001b[0m\u001b[0;34m\u001b[0m\u001b[0m\n\u001b[1;32m     24\u001b[0m         \u001b[0mloss\u001b[0m\u001b[0;34m.\u001b[0m\u001b[0mbackward\u001b[0m\u001b[0;34m(\u001b[0m\u001b[0;34m)\u001b[0m\u001b[0;34m\u001b[0m\u001b[0;34m\u001b[0m\u001b[0m\n\u001b[0;32m---> 25\u001b[0;31m         \u001b[0moptim\u001b[0m\u001b[0;34m.\u001b[0m\u001b[0mstep\u001b[0m\u001b[0;34m(\u001b[0m\u001b[0;34m)\u001b[0m\u001b[0;34m\u001b[0m\u001b[0;34m\u001b[0m\u001b[0m\n\u001b[0m",
            "\u001b[0;32m/usr/local/lib/python3.6/dist-packages/transformers/optimization.py\u001b[0m in \u001b[0;36mstep\u001b[0;34m(self, closure)\u001b[0m\n\u001b[1;32m    295\u001b[0m                 \u001b[0mexp_avg\u001b[0m\u001b[0;34m.\u001b[0m\u001b[0mmul_\u001b[0m\u001b[0;34m(\u001b[0m\u001b[0mbeta1\u001b[0m\u001b[0;34m)\u001b[0m\u001b[0;34m.\u001b[0m\u001b[0madd_\u001b[0m\u001b[0;34m(\u001b[0m\u001b[0mgrad\u001b[0m\u001b[0;34m,\u001b[0m \u001b[0malpha\u001b[0m\u001b[0;34m=\u001b[0m\u001b[0;36m1.0\u001b[0m \u001b[0;34m-\u001b[0m \u001b[0mbeta1\u001b[0m\u001b[0;34m)\u001b[0m\u001b[0;34m\u001b[0m\u001b[0;34m\u001b[0m\u001b[0m\n\u001b[1;32m    296\u001b[0m                 \u001b[0mexp_avg_sq\u001b[0m\u001b[0;34m.\u001b[0m\u001b[0mmul_\u001b[0m\u001b[0;34m(\u001b[0m\u001b[0mbeta2\u001b[0m\u001b[0;34m)\u001b[0m\u001b[0;34m.\u001b[0m\u001b[0maddcmul_\u001b[0m\u001b[0;34m(\u001b[0m\u001b[0mgrad\u001b[0m\u001b[0;34m,\u001b[0m \u001b[0mgrad\u001b[0m\u001b[0;34m,\u001b[0m \u001b[0mvalue\u001b[0m\u001b[0;34m=\u001b[0m\u001b[0;36m1.0\u001b[0m \u001b[0;34m-\u001b[0m \u001b[0mbeta2\u001b[0m\u001b[0;34m)\u001b[0m\u001b[0;34m\u001b[0m\u001b[0;34m\u001b[0m\u001b[0m\n\u001b[0;32m--> 297\u001b[0;31m                 \u001b[0mdenom\u001b[0m \u001b[0;34m=\u001b[0m \u001b[0mexp_avg_sq\u001b[0m\u001b[0;34m.\u001b[0m\u001b[0msqrt\u001b[0m\u001b[0;34m(\u001b[0m\u001b[0;34m)\u001b[0m\u001b[0;34m.\u001b[0m\u001b[0madd_\u001b[0m\u001b[0;34m(\u001b[0m\u001b[0mgroup\u001b[0m\u001b[0;34m[\u001b[0m\u001b[0;34m\"eps\"\u001b[0m\u001b[0;34m]\u001b[0m\u001b[0;34m)\u001b[0m\u001b[0;34m\u001b[0m\u001b[0;34m\u001b[0m\u001b[0m\n\u001b[0m\u001b[1;32m    298\u001b[0m \u001b[0;34m\u001b[0m\u001b[0m\n\u001b[1;32m    299\u001b[0m                 \u001b[0mstep_size\u001b[0m \u001b[0;34m=\u001b[0m \u001b[0mgroup\u001b[0m\u001b[0;34m[\u001b[0m\u001b[0;34m\"lr\"\u001b[0m\u001b[0;34m]\u001b[0m\u001b[0;34m\u001b[0m\u001b[0;34m\u001b[0m\u001b[0m\n",
            "\u001b[0;31mKeyboardInterrupt\u001b[0m: "
          ]
        }
      ]
    },
    {
      "cell_type": "markdown",
      "metadata": {
        "id": "gqOopdb6CRfS",
        "colab_type": "text"
      },
      "source": [
        "C `batch_size = 1` у нас получается 326944 батчей на каждую эпоху. Работает это очень медленно, и для полного обучения хотя бы одну эпоху потребуется как минимум 5 часов. Я решила оставить на ~30 минут.\n",
        "\n",
        "За это время модель обучилась всего на 12120 батчах из 326944, причем меньше эпохи."
      ]
    },
    {
      "cell_type": "markdown",
      "metadata": {
        "id": "pVZrZQh4HdUb",
        "colab_type": "text"
      },
      "source": [
        "Посмотрим на работу модели на нескольких случайных примерах из тестового датасета."
      ]
    },
    {
      "cell_type": "code",
      "metadata": {
        "id": "zI4yWZAj8jhN",
        "colab_type": "code",
        "colab": {}
      },
      "source": [
        "# I ran into some CUDA errors here which blocked the session from using gpu\n",
        "# completely so I decided to switch to cpu for this simple evaluation :)\n",
        "device='cpu'\n",
        "model.to('cpu')"
      ],
      "execution_count": null,
      "outputs": []
    },
    {
      "cell_type": "code",
      "metadata": {
        "id": "RCZudexhGVDN",
        "colab_type": "code",
        "colab": {}
      },
      "source": [
        "def eval_model(pos_line, neg_line, verbose=False):\n",
        "  \"\"\"Run model on pos_line'th positive and neg_line'th negative examples from \n",
        "  test and print classification results.\"\"\"\n",
        "  classes = [\"negative\", \"positive\"]\n",
        "\n",
        "  with open(\"test/positive.txt\") as pos:\n",
        "    for i in range(pos_line):\n",
        "      pos.readline()\n",
        "    pos_seq = pos.readline()\n",
        "  with open(\"test/negative.txt\") as neg:\n",
        "    for i in range(neg_line):\n",
        "      neg.readline()\n",
        "    neg_seq = neg.readline()\n",
        "\n",
        "  pos_doc, pos_func = pos_seq.strip().split(\"<CODESPLIT>\")[:2]\n",
        "  neg_doc, neg_func = neg_seq.strip().split(\"<CODESPLIT>\")[:2]\n",
        "\n",
        "  print(f\"Positive input ({pos_line}th example)\")\n",
        "  if verbose:    \n",
        "    print(pos_doc)\n",
        "    print(pos_func)\n",
        "  print(f\"Negative input ({neg_line}th example)\")\n",
        "  if verbose:\n",
        "    print(neg_doc)\n",
        "    print(neg_func)\n",
        "  print()\n",
        "\n",
        "  positive = tokenizer(pos_doc, pos_func, return_tensors=\"pt\").to(device)\n",
        "  negative = tokenizer(neg_doc, neg_func, return_tensors=\"pt\").to(device)\n",
        "\n",
        "  model.eval()\n",
        "\n",
        "  positive_classification_logits = model(positive['input_ids'], attention_mask=positive['attention_mask'])[0]\n",
        "  negative_classification_logits = model(negative['input_ids'], attention_mask=negative['attention_mask'])[0]\n",
        "\n",
        "  positive_results = torch.softmax(positive_classification_logits, dim=1).tolist()[0]\n",
        "  negative_results = torch.softmax(negative_classification_logits, dim=1).tolist()[0]\n",
        "\n",
        "  # Should be positive\n",
        "  print(\"Positive results:\")\n",
        "  print(positive_results)\n",
        "  for i in range(len(classes)):\n",
        "    print(f\"{classes[i]}: {int(round(positive_results[i] * 100))}%\")\n",
        "  print()\n",
        "\n",
        "  # Should be negative\n",
        "  print(\"Negative results:\")\n",
        "  print(negative_results)\n",
        "  for i in range(len(classes)):\n",
        "    print(f\"{classes[i]}: {int(round(negative_results[i] * 100))}%\")"
      ],
      "execution_count": 37,
      "outputs": []
    },
    {
      "cell_type": "code",
      "metadata": {
        "id": "3W-L0JoY4P_X",
        "colab_type": "code",
        "colab": {
          "base_uri": "https://localhost:8080/",
          "height": 904
        },
        "outputId": "b73fbde8-4672-45b4-fe2c-79b16a9eb2c7"
      },
      "source": [
        "import numpy as np\n",
        "\n",
        "n = 3\n",
        "\n",
        "for i in range(n):\n",
        "  pos_line = np.random.randint(0, 10)\n",
        "  neg_line = np.random.randint(0, 10)\n",
        "  eval_model(pos_line, neg_line, True)\n",
        "  print()"
      ],
      "execution_count": 41,
      "outputs": [
        {
          "output_type": "stream",
          "text": [
            "Positive input (8th example)\n",
            "Service Discovery: disco#items \n",
            "  @xmpp.iq(('{%s}query' % __disco_items_ns__)) def disco_items(self, iq):     target = iq.get('to')     if (target.find('@') < 0):         query = self.E.query({'xmlns': __disco_items_ns__})     else:         query = self.E.query({'xmlns': __disco_items_ns__})     return self.iq('result', iq, query, {'from': target}) List all the active connections  Args:     filter:         A general filter/query string that narrows the list of         resources returned by a multi-resource GET (read) request and         DELETE (delete) request. The default is no filter         (all resources are returned). The filter parameter specifies         a general filter/query string. This query string narrows the         selection of resources returned from a GET request that         returns a list of resources. The following example shows how to         retrieve only the first 10 connections:  Returns: all the connections, filtered or not.\n",
            "Negative input (7th example)\n",
            "Service Discovery: disco#info \n",
            "  def parse_funcproto_or_tuple_type(self):     if (self.tok.id != lexer.LPAREN):         return None     saved_pos = self.pos     self.advance_tok()     dshapes = (self.parse_homogeneous_list(self.parse_datashape, lexer.COMMA, 'Invalid datashape in tuple', trailing_sep=True) or ())     if (self.tok.id != lexer.RPAREN):         self.raise_error('Invalid datashape in tuple')     self.advance_tok()     if (self.tok.id != lexer.RARROW):         tconstr = self.syntactic_sugar(self.sym.dtype_constr, 'tuple', '(...) dtype constructor', saved_pos)         return tconstr(dshapes)     else:         self.advance_tok()         ret_dshape = self.parse_datashape()         if (ret_dshape is None):             self.raise_error(('Expected function prototype return ' + 'datashape'))         tconstr = self.syntactic_sugar(self.sym.dtype_constr, 'funcproto', '(...) -> ... dtype constructor', saved_pos)         return tconstr(dshapes, ret_dshape)\n",
            "\n",
            "Positive results:\n",
            "[0.0004703787271864712, 0.9995296001434326]\n",
            "negative: 0%\n",
            "positive: 100%\n",
            "\n",
            "Negative results:\n",
            "[0.9960330128669739, 0.0039670211263000965]\n",
            "negative: 100%\n",
            "positive: 0%\n",
            "\n",
            "Positive input (3th example)\n",
            "A roster is this account's list of contacts; it may be fetched or updated.\n",
            "  @xmpp.iq('{jabber:iq:roster}query') def roster(self, iq):     roster = self.rosters.get(self)     method = getattr(self, ('%s_roster' % iq.get('type')))     return (method and method(iq, roster))\n",
            "Negative input (0th example)\n",
            "Handle ping requests\n",
            "  def __init__(self, *args, **kwargs):     template = kwargs.pop('template', 'gis/google/google-multi.js')     self.map_template = kwargs.pop('map_template', 'gis/google/google-single.js')     super(GoogleMapSet, self).__init__(**kwargs)     self.template = template     if isinstance(args[0], (tuple, list)):         self.maps = args[0]     else:         self.maps = args     self.dom_ids = [('map%d' % i) for i in xrange(len(self.maps))]\n",
            "\n",
            "Positive results:\n",
            "[0.0004995380877517164, 0.9995003938674927]\n",
            "negative: 0%\n",
            "positive: 100%\n",
            "\n",
            "Negative results:\n",
            "[0.9954806566238403, 0.004519359208643436]\n",
            "negative: 100%\n",
            "positive: 0%\n",
            "\n",
            "Positive input (2th example)\n",
            "Presence information may be sent out from the client or received from another account.\n",
            "  @xmpp.stanza('presence') def presence(self, elem):     Log.warn(('handle presence. me: %r elem: %r' % (self.authJID, elem_to_str(elem))))     if (self.authJID == elem.get('from')):         if ((elem.get('to') == None) or (not self.authJID.match_bare(elem.get('to')))):             return self.send_presence(elem)     self.recv_presence(elem)\n",
            "Negative input (7th example)\n",
            "Service Discovery: disco#info \n",
            "  def parse_funcproto_or_tuple_type(self):     if (self.tok.id != lexer.LPAREN):         return None     saved_pos = self.pos     self.advance_tok()     dshapes = (self.parse_homogeneous_list(self.parse_datashape, lexer.COMMA, 'Invalid datashape in tuple', trailing_sep=True) or ())     if (self.tok.id != lexer.RPAREN):         self.raise_error('Invalid datashape in tuple')     self.advance_tok()     if (self.tok.id != lexer.RARROW):         tconstr = self.syntactic_sugar(self.sym.dtype_constr, 'tuple', '(...) dtype constructor', saved_pos)         return tconstr(dshapes)     else:         self.advance_tok()         ret_dshape = self.parse_datashape()         if (ret_dshape is None):             self.raise_error(('Expected function prototype return ' + 'datashape'))         tconstr = self.syntactic_sugar(self.sym.dtype_constr, 'funcproto', '(...) -> ... dtype constructor', saved_pos)         return tconstr(dshapes, ret_dshape)\n",
            "\n",
            "Positive results:\n",
            "[0.0005003439728170633, 0.9994996786117554]\n",
            "negative: 0%\n",
            "positive: 100%\n",
            "\n",
            "Negative results:\n",
            "[0.9960330128669739, 0.0039670211263000965]\n",
            "negative: 100%\n",
            "positive: 0%\n",
            "\n"
          ],
          "name": "stdout"
        }
      ]
    },
    {
      "cell_type": "markdown",
      "metadata": {
        "id": "AF89xtmWKzEJ",
        "colab_type": "text"
      },
      "source": [
        "Во всех случаях модель уверенно отличила правильное сочетание docstring-функция от неправильного. \n",
        "\n",
        "При этом периодически возникали проблемы с индексами: я думаю, что это может быть связано с незаконченным обучением. Поэтому я решила оставить \"evaluation\" в его текущем состоянии всего на 3 примерах и, тем более, не оценивать результаты модели на всей тестовой выборке с использованием распространенных метрик."
      ]
    }
  ]
}